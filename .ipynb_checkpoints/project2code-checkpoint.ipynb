{
 "cells": [
  {
   "cell_type": "markdown",
   "id": "603ae117",
   "metadata": {},
   "source": [
    "## Predicting FinTech Bootcamp Graduate Salaries\n",
    "##### Project 2 - Group C (Andrew, Margee, Rachel, Jinhyeong)\n",
    "##### Presentation Date: January 15, 2022"
   ]
  },
  {
   "cell_type": "markdown",
   "id": "313424ef",
   "metadata": {},
   "source": [
    "#### Data Preparation"
   ]
  },
  {
   "cell_type": "code",
   "execution_count": 315,
   "id": "04b63390",
   "metadata": {},
   "outputs": [],
   "source": [
    "# Imports\n",
    "import json\n",
    "import pandas as pd\n",
    "import numpy as np\n",
    "import warnings\n",
    "import tensorflow as tf\n",
    "from sklearn.preprocessing import MinMaxScaler\n",
    "from sklearn.model_selection import train_test_split\n",
    "import hvplot.pandas\n",
    "warnings.filterwarnings(\"ignore\")\n",
    "\n",
    "# Import matplotlib and seaborn libraries to visualize the data\n",
    "import matplotlib.pyplot as plt \n",
    "import seaborn as sns\n",
    "\n",
    "# Import regressor algorithms\n",
    "from sklearn.ensemble import ExtraTreesRegressor\n",
    "from sklearn.linear_model import Lasso\n",
    "from sklearn.linear_model import LinearRegression\n",
    "from sklearn.ensemble import RandomForestRegressor\n",
    "from sklearn.linear_model import Ridge\n",
    "from sklearn.linear_model import SGDRegressor\n",
    "\n",
    "# Import model evaluations\n",
    "from sklearn.metrics import r2_score\n",
    "from sklearn.metrics import mean_squared_error\n",
    "\n",
    "# For panel/dashboard\n",
    "import panel as pn"
   ]
  },
  {
   "cell_type": "code",
   "execution_count": 265,
   "id": "31722cf5",
   "metadata": {},
   "outputs": [],
   "source": [
    "# Create File Path\n",
    "filepath = \"/Users/piercerachel/Desktop/git/Project2_GroupC/\"\n",
    "filename = \"monster_india_latest_jobs_free_dataset.json\"\n",
    "\n",
    "# Opening JSON file\n",
    "f = open(filepath + filename)\n",
    "\n",
    "# returns JSON object as a dictionary\n",
    "data = json.load(f)"
   ]
  },
  {
   "cell_type": "code",
   "execution_count": 266,
   "id": "4a4e2cd2",
   "metadata": {},
   "outputs": [],
   "source": [
    "# Create data list\n",
    "address_country = []\n",
    "address_locality = []\n",
    "address_region = []\n",
    "company = []\n",
    "description = []\n",
    "industry = []\n",
    "postal_code = []\n",
    "posted_at = []\n",
    "salary = []  # the target\n",
    "salary_type = []\n",
    "skills = []\n",
    "title = []\n",
    "url = []\n",
    "\n",
    "# iterate through each element in the data list\n",
    "for each in data:\n",
    "\n",
    "    # append values to list, given each key\n",
    "    address_country.append(each[\"address_country\"])\n",
    "    address_locality.append(each[\"address_locality\"])\n",
    "    address_region.append(each[\"address_region\"])\n",
    "    company.append(each[\"company\"])\n",
    "    description.append(each[\"description\"])\n",
    "    industry.append(each[\"industry\"])\n",
    "    postal_code.append(each[\"postal_code\"])\n",
    "    posted_at.append(each[\"posted_at\"])\n",
    "    salary.append(each[\"salary\"])\n",
    "    salary_type.append(each[\"salary_type\"])\n",
    "    skills.append(each[\"skills\"]) \n",
    "    title.append(each[\"title\"])\n",
    "    url.append(each[\"url\"])"
   ]
  },
  {
   "cell_type": "code",
   "execution_count": 267,
   "id": "8d4ddecc",
   "metadata": {},
   "outputs": [],
   "source": [
    "# create df, using string header and list as rows\n",
    "df = pd.DataFrame({\"address_country\": address_country\n",
    "                   ,\"address_locality\": address_locality\n",
    "                   ,\"address_region\": address_region\n",
    "                   ,\"company\": company\n",
    "                   ,\"description\": description\n",
    "                   ,\"industry\": industry\n",
    "                   ,\"postal_code\": postal_code\n",
    "                   ,\"posted_at\": posted_at\n",
    "                   ,\"salary\": salary\n",
    "                   ,\"salary_type\": salary_type\n",
    "                   ,\"skills\": skills\n",
    "                   ,\"title\": title\n",
    "                   ,\"url\": url\n",
    "                  })\n",
    "\n",
    "df[\"description\"] = df[\"description\"].str.lower()"
   ]
  },
  {
   "cell_type": "code",
   "execution_count": 268,
   "id": "81aa95c1",
   "metadata": {},
   "outputs": [
    {
     "data": {
      "text/html": [
       "<div>\n",
       "<style scoped>\n",
       "    .dataframe tbody tr th:only-of-type {\n",
       "        vertical-align: middle;\n",
       "    }\n",
       "\n",
       "    .dataframe tbody tr th {\n",
       "        vertical-align: top;\n",
       "    }\n",
       "\n",
       "    .dataframe thead th {\n",
       "        text-align: right;\n",
       "    }\n",
       "</style>\n",
       "<table border=\"1\" class=\"dataframe\">\n",
       "  <thead>\n",
       "    <tr style=\"text-align: right;\">\n",
       "      <th></th>\n",
       "      <th>address_country</th>\n",
       "      <th>address_locality</th>\n",
       "      <th>address_region</th>\n",
       "      <th>company</th>\n",
       "      <th>description</th>\n",
       "      <th>industry</th>\n",
       "      <th>postal_code</th>\n",
       "      <th>posted_at</th>\n",
       "      <th>salary</th>\n",
       "      <th>salary_type</th>\n",
       "      <th>skills</th>\n",
       "      <th>title</th>\n",
       "      <th>url</th>\n",
       "    </tr>\n",
       "  </thead>\n",
       "  <tbody>\n",
       "    <tr>\n",
       "      <th>0</th>\n",
       "      <td>IN</td>\n",
       "      <td>India</td>\n",
       "      <td>India</td>\n",
       "      <td>Kotak Mahindra Bank Limited</td>\n",
       "      <td>job description : -   . client engagement o...</td>\n",
       "      <td>Banking/Accounting/Financial Services</td>\n",
       "      <td>NA</td>\n",
       "      <td>2021-09-16</td>\n",
       "      <td>Not disclosed</td>\n",
       "      <td>P.A.</td>\n",
       "      <td>Service Relationship Manager-POS-BRANCH BANKIN...</td>\n",
       "      <td>Service Relationship Manager-POS-BRANCH BANKIN...</td>\n",
       "      <td>https://www.monsterindia.com/job/service-relat...</td>\n",
       "    </tr>\n",
       "    <tr>\n",
       "      <th>1</th>\n",
       "      <td>IN</td>\n",
       "      <td>Noida</td>\n",
       "      <td>Uttar Pradesh</td>\n",
       "      <td>ANI Calls India Private Limited</td>\n",
       "      <td>job description : . axway b2bi or axway gatew...</td>\n",
       "      <td>IT/Computers - Software</td>\n",
       "      <td>NA</td>\n",
       "      <td>2021-09-13</td>\n",
       "      <td>1600000</td>\n",
       "      <td>P.A.</td>\n",
       "      <td>Axway B2B EDI Integration consultant</td>\n",
       "      <td>Axway B2B EDI Integration consultant</td>\n",
       "      <td>https://www.monsterindia.com/job/axway-b2b-edi...</td>\n",
       "    </tr>\n",
       "    <tr>\n",
       "      <th>2</th>\n",
       "      <td>IN</td>\n",
       "      <td>Chennai</td>\n",
       "      <td>Tamil Nadu</td>\n",
       "      <td>PayPal</td>\n",
       "      <td>job description : job description fueled by a...</td>\n",
       "      <td>Banking/Accounting/Financial Services</td>\n",
       "      <td>NA</td>\n",
       "      <td>2021-08-18</td>\n",
       "      <td>Not disclosed</td>\n",
       "      <td>P.A.</td>\n",
       "      <td>Data Engineer/MTS 2</td>\n",
       "      <td>MTS 2, Data Engineer</td>\n",
       "      <td>https://www.monsterindia.com/job/mts-2-data-en...</td>\n",
       "    </tr>\n",
       "    <tr>\n",
       "      <th>3</th>\n",
       "      <td>IN</td>\n",
       "      <td>Bengaluru / Bangalore</td>\n",
       "      <td>Karnataka</td>\n",
       "      <td>ANI Calls India Private Limited</td>\n",
       "      <td>job description : at least three years weblog...</td>\n",
       "      <td>IT/Computers - Software</td>\n",
       "      <td>NA</td>\n",
       "      <td>2021-08-26</td>\n",
       "      <td>1800000</td>\n",
       "      <td>P.A.</td>\n",
       "      <td>Senior Oracle Fusion Middleware developer</td>\n",
       "      <td>Senior Oracle Fusion Middleware developer</td>\n",
       "      <td>https://www.monsterindia.com/job/senior-oracle...</td>\n",
       "    </tr>\n",
       "    <tr>\n",
       "      <th>4</th>\n",
       "      <td>IN</td>\n",
       "      <td>India</td>\n",
       "      <td>India</td>\n",
       "      <td>ANI Calls India Private Limited</td>\n",
       "      <td>job description : • linux engineer with ksh s...</td>\n",
       "      <td>IT/Computers - Software</td>\n",
       "      <td>NA</td>\n",
       "      <td>2021-09-08</td>\n",
       "      <td>1400000</td>\n",
       "      <td>P.A.</td>\n",
       "      <td>Korn Shell (KSH) - Linux System Engineer</td>\n",
       "      <td>Korn Shell (KSH) - Linux System Engineer</td>\n",
       "      <td>https://www.monsterindia.com/job/korn-shell-ks...</td>\n",
       "    </tr>\n",
       "  </tbody>\n",
       "</table>\n",
       "</div>"
      ],
      "text/plain": [
       "  address_country       address_locality address_region  \\\n",
       "0              IN                  India          India   \n",
       "1              IN                  Noida  Uttar Pradesh   \n",
       "2              IN                Chennai     Tamil Nadu   \n",
       "3              IN  Bengaluru / Bangalore      Karnataka   \n",
       "4              IN                  India          India   \n",
       "\n",
       "                           company  \\\n",
       "0      Kotak Mahindra Bank Limited   \n",
       "1  ANI Calls India Private Limited   \n",
       "2                           PayPal   \n",
       "3  ANI Calls India Private Limited   \n",
       "4  ANI Calls India Private Limited   \n",
       "\n",
       "                                         description  \\\n",
       "0     job description : -   . client engagement o...   \n",
       "1   job description : . axway b2bi or axway gatew...   \n",
       "2   job description : job description fueled by a...   \n",
       "3   job description : at least three years weblog...   \n",
       "4   job description : • linux engineer with ksh s...   \n",
       "\n",
       "                                industry postal_code   posted_at  \\\n",
       "0  Banking/Accounting/Financial Services          NA  2021-09-16   \n",
       "1                IT/Computers - Software          NA  2021-09-13   \n",
       "2  Banking/Accounting/Financial Services          NA  2021-08-18   \n",
       "3                IT/Computers - Software          NA  2021-08-26   \n",
       "4                IT/Computers - Software          NA  2021-09-08   \n",
       "\n",
       "          salary salary_type  \\\n",
       "0  Not disclosed        P.A.   \n",
       "1        1600000        P.A.   \n",
       "2  Not disclosed        P.A.   \n",
       "3        1800000        P.A.   \n",
       "4        1400000        P.A.   \n",
       "\n",
       "                                              skills  \\\n",
       "0  Service Relationship Manager-POS-BRANCH BANKIN...   \n",
       "1               Axway B2B EDI Integration consultant   \n",
       "2                                Data Engineer/MTS 2   \n",
       "3          Senior Oracle Fusion Middleware developer   \n",
       "4           Korn Shell (KSH) - Linux System Engineer   \n",
       "\n",
       "                                               title  \\\n",
       "0  Service Relationship Manager-POS-BRANCH BANKIN...   \n",
       "1               Axway B2B EDI Integration consultant   \n",
       "2                               MTS 2, Data Engineer   \n",
       "3          Senior Oracle Fusion Middleware developer   \n",
       "4           Korn Shell (KSH) - Linux System Engineer   \n",
       "\n",
       "                                                 url  \n",
       "0  https://www.monsterindia.com/job/service-relat...  \n",
       "1  https://www.monsterindia.com/job/axway-b2b-edi...  \n",
       "2  https://www.monsterindia.com/job/mts-2-data-en...  \n",
       "3  https://www.monsterindia.com/job/senior-oracle...  \n",
       "4  https://www.monsterindia.com/job/korn-shell-ks...  "
      ]
     },
     "execution_count": 268,
     "metadata": {},
     "output_type": "execute_result"
    }
   ],
   "source": [
    "# Preview dataframe\n",
    "df.head()"
   ]
  },
  {
   "cell_type": "code",
   "execution_count": 269,
   "id": "76ff6491",
   "metadata": {},
   "outputs": [],
   "source": [
    "# Clean data, drop unnecessary columns\n",
    "df.drop(['address_country', 'address_locality', 'address_region', 'postal_code', 'salary_type', 'skills', 'url', 'company', 'industry', 'posted_at', 'title'], axis=1, inplace=True)"
   ]
  },
  {
   "cell_type": "code",
   "execution_count": 270,
   "id": "f976a4e1",
   "metadata": {},
   "outputs": [
    {
     "data": {
      "text/html": [
       "<div>\n",
       "<style scoped>\n",
       "    .dataframe tbody tr th:only-of-type {\n",
       "        vertical-align: middle;\n",
       "    }\n",
       "\n",
       "    .dataframe tbody tr th {\n",
       "        vertical-align: top;\n",
       "    }\n",
       "\n",
       "    .dataframe thead th {\n",
       "        text-align: right;\n",
       "    }\n",
       "</style>\n",
       "<table border=\"1\" class=\"dataframe\">\n",
       "  <thead>\n",
       "    <tr style=\"text-align: right;\">\n",
       "      <th></th>\n",
       "      <th>description</th>\n",
       "      <th>salary</th>\n",
       "    </tr>\n",
       "  </thead>\n",
       "  <tbody>\n",
       "    <tr>\n",
       "      <th>0</th>\n",
       "      <td>job description : -   . client engagement o...</td>\n",
       "      <td>Not disclosed</td>\n",
       "    </tr>\n",
       "    <tr>\n",
       "      <th>1</th>\n",
       "      <td>job description : . axway b2bi or axway gatew...</td>\n",
       "      <td>1600000</td>\n",
       "    </tr>\n",
       "    <tr>\n",
       "      <th>2</th>\n",
       "      <td>job description : job description fueled by a...</td>\n",
       "      <td>Not disclosed</td>\n",
       "    </tr>\n",
       "    <tr>\n",
       "      <th>3</th>\n",
       "      <td>job description : at least three years weblog...</td>\n",
       "      <td>1800000</td>\n",
       "    </tr>\n",
       "    <tr>\n",
       "      <th>4</th>\n",
       "      <td>job description : • linux engineer with ksh s...</td>\n",
       "      <td>1400000</td>\n",
       "    </tr>\n",
       "  </tbody>\n",
       "</table>\n",
       "</div>"
      ],
      "text/plain": [
       "                                         description         salary\n",
       "0     job description : -   . client engagement o...  Not disclosed\n",
       "1   job description : . axway b2bi or axway gatew...        1600000\n",
       "2   job description : job description fueled by a...  Not disclosed\n",
       "3   job description : at least three years weblog...        1800000\n",
       "4   job description : • linux engineer with ksh s...        1400000"
      ]
     },
     "execution_count": 270,
     "metadata": {},
     "output_type": "execute_result"
    }
   ],
   "source": [
    "# Preview updated columns\n",
    "df.head()"
   ]
  },
  {
   "cell_type": "code",
   "execution_count": 271,
   "id": "0b13b58f",
   "metadata": {},
   "outputs": [
    {
     "data": {
      "text/html": [
       "<div>\n",
       "<style scoped>\n",
       "    .dataframe tbody tr th:only-of-type {\n",
       "        vertical-align: middle;\n",
       "    }\n",
       "\n",
       "    .dataframe tbody tr th {\n",
       "        vertical-align: top;\n",
       "    }\n",
       "\n",
       "    .dataframe thead th {\n",
       "        text-align: right;\n",
       "    }\n",
       "</style>\n",
       "<table border=\"1\" class=\"dataframe\">\n",
       "  <thead>\n",
       "    <tr style=\"text-align: right;\">\n",
       "      <th></th>\n",
       "      <th>description</th>\n",
       "      <th>salary</th>\n",
       "    </tr>\n",
       "  </thead>\n",
       "  <tbody>\n",
       "    <tr>\n",
       "      <th>1</th>\n",
       "      <td>job description : . axway b2bi or axway gatew...</td>\n",
       "      <td>1600000</td>\n",
       "    </tr>\n",
       "    <tr>\n",
       "      <th>3</th>\n",
       "      <td>job description : at least three years weblog...</td>\n",
       "      <td>1800000</td>\n",
       "    </tr>\n",
       "    <tr>\n",
       "      <th>4</th>\n",
       "      <td>job description : • linux engineer with ksh s...</td>\n",
       "      <td>1400000</td>\n",
       "    </tr>\n",
       "    <tr>\n",
       "      <th>5</th>\n",
       "      <td>job description : . oracle ebs apps dba imple...</td>\n",
       "      <td>1400000</td>\n",
       "    </tr>\n",
       "    <tr>\n",
       "      <th>7</th>\n",
       "      <td>requirement  mulesoft developer</td>\n",
       "      <td>2500000</td>\n",
       "    </tr>\n",
       "  </tbody>\n",
       "</table>\n",
       "</div>"
      ],
      "text/plain": [
       "                                         description   salary\n",
       "1   job description : . axway b2bi or axway gatew...  1600000\n",
       "3   job description : at least three years weblog...  1800000\n",
       "4   job description : • linux engineer with ksh s...  1400000\n",
       "5   job description : . oracle ebs apps dba imple...  1400000\n",
       "7                   requirement  mulesoft developer   2500000"
      ]
     },
     "execution_count": 271,
     "metadata": {},
     "output_type": "execute_result"
    }
   ],
   "source": [
    "# Drop any salaries that are Not disclosed\n",
    "df = df[df[\"salary\"] != \"Not disclosed\"]\n",
    "df.head()"
   ]
  },
  {
   "cell_type": "code",
   "execution_count": 272,
   "id": "d12cb7ef",
   "metadata": {},
   "outputs": [
    {
     "data": {
      "text/plain": [
       "description    0\n",
       "salary         0\n",
       "dtype: int64"
      ]
     },
     "execution_count": 272,
     "metadata": {},
     "output_type": "execute_result"
    }
   ],
   "source": [
    "# Check if there are any NAs/nulls\n",
    "df.isnull().sum()"
   ]
  },
  {
   "cell_type": "code",
   "execution_count": 273,
   "id": "42147fb7",
   "metadata": {},
   "outputs": [],
   "source": [
    "#Create CSV file from new DataFrame if desired\n",
    "#df.to_csv(r'/Users/andrewcrawford/Desktop/Project2_GroupC/keyword_output.csv', index=False, header=True)"
   ]
  },
  {
   "cell_type": "code",
   "execution_count": 274,
   "id": "10fcf760",
   "metadata": {},
   "outputs": [],
   "source": [
    "# Creating Keywords for Searching\n",
    "keywords_database = \"sql|oracle|database|db|datawarehouse|datawarehousing|mysql|mssql|postgresql|db2|mongodb|rbs| etl |sqlite|redis\"\n",
    "keywords_python = \"python|scripting|pep8|programmer|developer|pandas|numpy|django| pip |conda|venv|github|gitlab|spyder|pycharm|jupyter\"\n",
    "keywords_api = \" api |restful\"\n",
    "keywords_algorithm = \"algorithm|algorithmic| ai |artificial intelligence|knn|logistic regression|classification|regression|k-means|tensorflow|keras|scikit-learn\"\n",
    "keywords_cloud = \" aws |amazon web services|ec2|s3|cloud|lambda|cloudwatch|cloudfront|azure\"\n",
    "keywords_forecast = \"forecast|predict| arma |arima|garch|straight line\"\n",
    "keywords_bigdata = \"bigdata|big data|nosql|hadoop\"\n",
    "keywords_dashboard = \"dashboard|tableau|power bi|qlik| domo |visualization|tufte|bi tools|business intelligence\"\n",
    "keywords_project_management = \"agile|scrum|jira|kanban|stand up|black belt|waterfall|gantt\"\n",
    "keywords_finance = \"fintech|financial technology|payments|investment|diversification|finance|cryptocurrency|crypto|defi|decentralized finance\""
   ]
  },
  {
   "cell_type": "code",
   "execution_count": 275,
   "id": "98b9d8c4",
   "metadata": {},
   "outputs": [],
   "source": [
    "# Searching for keyword skills and updating columns from 0s to 1s as applicable\n",
    "df[\"database\"] = np.where(df[\"description\"].str.contains(keywords_database), 1, 0)\n",
    "df[\"python\"] = np.where(df[\"description\"].str.contains(keywords_python), 1, 0)\n",
    "df[\"api\"] = np.where(df[\"description\"].str.contains(keywords_api), 1, 0)\n",
    "df[\"algorithm\"] = np.where(df[\"description\"].str.contains(keywords_algorithm), 1, 0)\n",
    "df[\"cloud\"] = np.where(df[\"description\"].str.contains(keywords_cloud), 1, 0)\n",
    "df[\"forecast\"] = np.where(df[\"description\"].str.contains(keywords_forecast), 1, 0)\n",
    "df[\"bigdata\"] = np.where(df[\"description\"].str.contains(keywords_bigdata), 1, 0)\n",
    "df[\"dashboard\"] = np.where(df[\"description\"].str.contains(keywords_dashboard), 1, 0)\n",
    "df[\"project_management\"] = np.where(df[\"description\"].str.contains(keywords_project_management), 1, 0)\n",
    "df[\"finance\"] = np.where(df[\"description\"].str.contains(keywords_finance), 1, 0)"
   ]
  },
  {
   "cell_type": "code",
   "execution_count": 276,
   "id": "0a7e8cd7",
   "metadata": {},
   "outputs": [
    {
     "data": {
      "text/plain": [
       "description            job description : . axway b2bi or axway gatew...\n",
       "salary                1600000180000014000001400000250000014400001400...\n",
       "database                                                            108\n",
       "python                                                               81\n",
       "api                                                                  26\n",
       "algorithm                                                            18\n",
       "cloud                                                                73\n",
       "forecast                                                              9\n",
       "bigdata                                                              14\n",
       "dashboard                                                            21\n",
       "project_management                                                   49\n",
       "finance                                                              55\n",
       "dtype: object"
      ]
     },
     "execution_count": 276,
     "metadata": {},
     "output_type": "execute_result"
    }
   ],
   "source": [
    "# Testing counts of each\n",
    "df.sum()"
   ]
  },
  {
   "cell_type": "code",
   "execution_count": 277,
   "id": "a733b455",
   "metadata": {},
   "outputs": [
    {
     "data": {
      "text/html": [
       "<div>\n",
       "<style scoped>\n",
       "    .dataframe tbody tr th:only-of-type {\n",
       "        vertical-align: middle;\n",
       "    }\n",
       "\n",
       "    .dataframe tbody tr th {\n",
       "        vertical-align: top;\n",
       "    }\n",
       "\n",
       "    .dataframe thead th {\n",
       "        text-align: right;\n",
       "    }\n",
       "</style>\n",
       "<table border=\"1\" class=\"dataframe\">\n",
       "  <thead>\n",
       "    <tr style=\"text-align: right;\">\n",
       "      <th></th>\n",
       "      <th>description</th>\n",
       "      <th>salary</th>\n",
       "      <th>database</th>\n",
       "      <th>python</th>\n",
       "      <th>api</th>\n",
       "      <th>algorithm</th>\n",
       "      <th>cloud</th>\n",
       "      <th>forecast</th>\n",
       "      <th>bigdata</th>\n",
       "      <th>dashboard</th>\n",
       "      <th>project_management</th>\n",
       "      <th>finance</th>\n",
       "    </tr>\n",
       "  </thead>\n",
       "  <tbody>\n",
       "    <tr>\n",
       "      <th>1</th>\n",
       "      <td>job description : . axway b2bi or axway gatew...</td>\n",
       "      <td>1600000</td>\n",
       "      <td>0</td>\n",
       "      <td>0</td>\n",
       "      <td>0</td>\n",
       "      <td>0</td>\n",
       "      <td>0</td>\n",
       "      <td>0</td>\n",
       "      <td>0</td>\n",
       "      <td>0</td>\n",
       "      <td>0</td>\n",
       "      <td>0</td>\n",
       "    </tr>\n",
       "    <tr>\n",
       "      <th>3</th>\n",
       "      <td>job description : at least three years weblog...</td>\n",
       "      <td>1800000</td>\n",
       "      <td>1</td>\n",
       "      <td>0</td>\n",
       "      <td>0</td>\n",
       "      <td>0</td>\n",
       "      <td>0</td>\n",
       "      <td>0</td>\n",
       "      <td>0</td>\n",
       "      <td>0</td>\n",
       "      <td>0</td>\n",
       "      <td>0</td>\n",
       "    </tr>\n",
       "    <tr>\n",
       "      <th>4</th>\n",
       "      <td>job description : • linux engineer with ksh s...</td>\n",
       "      <td>1400000</td>\n",
       "      <td>0</td>\n",
       "      <td>1</td>\n",
       "      <td>0</td>\n",
       "      <td>0</td>\n",
       "      <td>0</td>\n",
       "      <td>0</td>\n",
       "      <td>0</td>\n",
       "      <td>0</td>\n",
       "      <td>0</td>\n",
       "      <td>0</td>\n",
       "    </tr>\n",
       "    <tr>\n",
       "      <th>5</th>\n",
       "      <td>job description : . oracle ebs apps dba imple...</td>\n",
       "      <td>1400000</td>\n",
       "      <td>1</td>\n",
       "      <td>0</td>\n",
       "      <td>0</td>\n",
       "      <td>0</td>\n",
       "      <td>1</td>\n",
       "      <td>0</td>\n",
       "      <td>0</td>\n",
       "      <td>0</td>\n",
       "      <td>0</td>\n",
       "      <td>0</td>\n",
       "    </tr>\n",
       "    <tr>\n",
       "      <th>7</th>\n",
       "      <td>requirement  mulesoft developer</td>\n",
       "      <td>2500000</td>\n",
       "      <td>0</td>\n",
       "      <td>1</td>\n",
       "      <td>0</td>\n",
       "      <td>0</td>\n",
       "      <td>0</td>\n",
       "      <td>0</td>\n",
       "      <td>0</td>\n",
       "      <td>0</td>\n",
       "      <td>0</td>\n",
       "      <td>0</td>\n",
       "    </tr>\n",
       "  </tbody>\n",
       "</table>\n",
       "</div>"
      ],
      "text/plain": [
       "                                         description   salary  database  \\\n",
       "1   job description : . axway b2bi or axway gatew...  1600000         0   \n",
       "3   job description : at least three years weblog...  1800000         1   \n",
       "4   job description : • linux engineer with ksh s...  1400000         0   \n",
       "5   job description : . oracle ebs apps dba imple...  1400000         1   \n",
       "7                   requirement  mulesoft developer   2500000         0   \n",
       "\n",
       "   python  api  algorithm  cloud  forecast  bigdata  dashboard  \\\n",
       "1       0    0          0      0         0        0          0   \n",
       "3       0    0          0      0         0        0          0   \n",
       "4       1    0          0      0         0        0          0   \n",
       "5       0    0          0      1         0        0          0   \n",
       "7       1    0          0      0         0        0          0   \n",
       "\n",
       "   project_management  finance  \n",
       "1                   0        0  \n",
       "3                   0        0  \n",
       "4                   0        0  \n",
       "5                   0        0  \n",
       "7                   0        0  "
      ]
     },
     "execution_count": 277,
     "metadata": {},
     "output_type": "execute_result"
    }
   ],
   "source": [
    "# Show updated dataframe\n",
    "df.head()"
   ]
  },
  {
   "cell_type": "code",
   "execution_count": 278,
   "id": "b0df5efe",
   "metadata": {},
   "outputs": [
    {
     "data": {
      "text/html": [
       "<div>\n",
       "<style scoped>\n",
       "    .dataframe tbody tr th:only-of-type {\n",
       "        vertical-align: middle;\n",
       "    }\n",
       "\n",
       "    .dataframe tbody tr th {\n",
       "        vertical-align: top;\n",
       "    }\n",
       "\n",
       "    .dataframe thead th {\n",
       "        text-align: right;\n",
       "    }\n",
       "</style>\n",
       "<table border=\"1\" class=\"dataframe\">\n",
       "  <thead>\n",
       "    <tr style=\"text-align: right;\">\n",
       "      <th></th>\n",
       "      <th>description</th>\n",
       "      <th>salary</th>\n",
       "      <th>database</th>\n",
       "      <th>python</th>\n",
       "      <th>api</th>\n",
       "      <th>algorithm</th>\n",
       "      <th>cloud</th>\n",
       "      <th>forecast</th>\n",
       "      <th>bigdata</th>\n",
       "      <th>dashboard</th>\n",
       "      <th>project_management</th>\n",
       "      <th>finance</th>\n",
       "    </tr>\n",
       "  </thead>\n",
       "  <tbody>\n",
       "    <tr>\n",
       "      <th>0</th>\n",
       "      <td>job description : at least three years weblog...</td>\n",
       "      <td>1800000</td>\n",
       "      <td>1</td>\n",
       "      <td>0</td>\n",
       "      <td>0</td>\n",
       "      <td>0</td>\n",
       "      <td>0</td>\n",
       "      <td>0</td>\n",
       "      <td>0</td>\n",
       "      <td>0</td>\n",
       "      <td>0</td>\n",
       "      <td>0</td>\n",
       "    </tr>\n",
       "    <tr>\n",
       "      <th>1</th>\n",
       "      <td>job description : • linux engineer with ksh s...</td>\n",
       "      <td>1400000</td>\n",
       "      <td>0</td>\n",
       "      <td>1</td>\n",
       "      <td>0</td>\n",
       "      <td>0</td>\n",
       "      <td>0</td>\n",
       "      <td>0</td>\n",
       "      <td>0</td>\n",
       "      <td>0</td>\n",
       "      <td>0</td>\n",
       "      <td>0</td>\n",
       "    </tr>\n",
       "    <tr>\n",
       "      <th>2</th>\n",
       "      <td>job description : . oracle ebs apps dba imple...</td>\n",
       "      <td>1400000</td>\n",
       "      <td>1</td>\n",
       "      <td>0</td>\n",
       "      <td>0</td>\n",
       "      <td>0</td>\n",
       "      <td>1</td>\n",
       "      <td>0</td>\n",
       "      <td>0</td>\n",
       "      <td>0</td>\n",
       "      <td>0</td>\n",
       "      <td>0</td>\n",
       "    </tr>\n",
       "    <tr>\n",
       "      <th>3</th>\n",
       "      <td>requirement  mulesoft developer</td>\n",
       "      <td>2500000</td>\n",
       "      <td>0</td>\n",
       "      <td>1</td>\n",
       "      <td>0</td>\n",
       "      <td>0</td>\n",
       "      <td>0</td>\n",
       "      <td>0</td>\n",
       "      <td>0</td>\n",
       "      <td>0</td>\n",
       "      <td>0</td>\n",
       "      <td>0</td>\n",
       "    </tr>\n",
       "    <tr>\n",
       "      <th>4</th>\n",
       "      <td>job description : . principal engineer cloud ...</td>\n",
       "      <td>1400000</td>\n",
       "      <td>1</td>\n",
       "      <td>0</td>\n",
       "      <td>0</td>\n",
       "      <td>0</td>\n",
       "      <td>1</td>\n",
       "      <td>0</td>\n",
       "      <td>0</td>\n",
       "      <td>0</td>\n",
       "      <td>0</td>\n",
       "      <td>0</td>\n",
       "    </tr>\n",
       "  </tbody>\n",
       "</table>\n",
       "</div>"
      ],
      "text/plain": [
       "                                         description   salary  database  \\\n",
       "0   job description : at least three years weblog...  1800000         1   \n",
       "1   job description : • linux engineer with ksh s...  1400000         0   \n",
       "2   job description : . oracle ebs apps dba imple...  1400000         1   \n",
       "3                   requirement  mulesoft developer   2500000         0   \n",
       "4   job description : . principal engineer cloud ...  1400000         1   \n",
       "\n",
       "   python  api  algorithm  cloud  forecast  bigdata  dashboard  \\\n",
       "0       0    0          0      0         0        0          0   \n",
       "1       1    0          0      0         0        0          0   \n",
       "2       0    0          0      1         0        0          0   \n",
       "3       1    0          0      0         0        0          0   \n",
       "4       0    0          0      1         0        0          0   \n",
       "\n",
       "   project_management  finance  \n",
       "0                   0        0  \n",
       "1                   0        0  \n",
       "2                   0        0  \n",
       "3                   0        0  \n",
       "4                   0        0  "
      ]
     },
     "execution_count": 278,
     "metadata": {},
     "output_type": "execute_result"
    }
   ],
   "source": [
    "# Drop all rows where all keywords equal 0\n",
    "all_skills = ['database','python','api','algorithm','cloud','forecast','bigdata','dashboard','project_management','finance']\n",
    "df_updated = df[~(df[all_skills] == 0).all(axis=1)]\n",
    "df_updated.reset_index(drop=True, inplace=True)\n",
    "df_updated.head()"
   ]
  },
  {
   "cell_type": "code",
   "execution_count": 279,
   "id": "6a866ed2",
   "metadata": {},
   "outputs": [
    {
     "data": {
      "text/plain": [
       "description           object\n",
       "salary                 int32\n",
       "database               int32\n",
       "python                 int32\n",
       "api                    int32\n",
       "algorithm              int32\n",
       "cloud                  int32\n",
       "forecast               int32\n",
       "bigdata                int32\n",
       "dashboard              int32\n",
       "project_management     int32\n",
       "finance                int32\n",
       "dtype: object"
      ]
     },
     "execution_count": 279,
     "metadata": {},
     "output_type": "execute_result"
    }
   ],
   "source": [
    "# Convert salary data type before currency conversion\n",
    "df_updated['salary'] = df_updated['salary'].astype('int')\n",
    "df_updated.dtypes"
   ]
  },
  {
   "cell_type": "code",
   "execution_count": 280,
   "id": "5fe00157",
   "metadata": {},
   "outputs": [
    {
     "data": {
      "text/html": [
       "<div>\n",
       "<style scoped>\n",
       "    .dataframe tbody tr th:only-of-type {\n",
       "        vertical-align: middle;\n",
       "    }\n",
       "\n",
       "    .dataframe tbody tr th {\n",
       "        vertical-align: top;\n",
       "    }\n",
       "\n",
       "    .dataframe thead th {\n",
       "        text-align: right;\n",
       "    }\n",
       "</style>\n",
       "<table border=\"1\" class=\"dataframe\">\n",
       "  <thead>\n",
       "    <tr style=\"text-align: right;\">\n",
       "      <th></th>\n",
       "      <th>salary</th>\n",
       "      <th>database</th>\n",
       "      <th>python</th>\n",
       "      <th>api</th>\n",
       "      <th>algorithm</th>\n",
       "      <th>cloud</th>\n",
       "      <th>forecast</th>\n",
       "      <th>bigdata</th>\n",
       "      <th>dashboard</th>\n",
       "      <th>project_management</th>\n",
       "      <th>finance</th>\n",
       "    </tr>\n",
       "  </thead>\n",
       "  <tbody>\n",
       "    <tr>\n",
       "      <th>0</th>\n",
       "      <td>24232.63</td>\n",
       "      <td>1</td>\n",
       "      <td>0</td>\n",
       "      <td>0</td>\n",
       "      <td>0</td>\n",
       "      <td>0</td>\n",
       "      <td>0</td>\n",
       "      <td>0</td>\n",
       "      <td>0</td>\n",
       "      <td>0</td>\n",
       "      <td>0</td>\n",
       "    </tr>\n",
       "    <tr>\n",
       "      <th>1</th>\n",
       "      <td>18847.60</td>\n",
       "      <td>0</td>\n",
       "      <td>1</td>\n",
       "      <td>0</td>\n",
       "      <td>0</td>\n",
       "      <td>0</td>\n",
       "      <td>0</td>\n",
       "      <td>0</td>\n",
       "      <td>0</td>\n",
       "      <td>0</td>\n",
       "      <td>0</td>\n",
       "    </tr>\n",
       "    <tr>\n",
       "      <th>2</th>\n",
       "      <td>18847.60</td>\n",
       "      <td>1</td>\n",
       "      <td>0</td>\n",
       "      <td>0</td>\n",
       "      <td>0</td>\n",
       "      <td>1</td>\n",
       "      <td>0</td>\n",
       "      <td>0</td>\n",
       "      <td>0</td>\n",
       "      <td>0</td>\n",
       "      <td>0</td>\n",
       "    </tr>\n",
       "    <tr>\n",
       "      <th>3</th>\n",
       "      <td>33656.44</td>\n",
       "      <td>0</td>\n",
       "      <td>1</td>\n",
       "      <td>0</td>\n",
       "      <td>0</td>\n",
       "      <td>0</td>\n",
       "      <td>0</td>\n",
       "      <td>0</td>\n",
       "      <td>0</td>\n",
       "      <td>0</td>\n",
       "      <td>0</td>\n",
       "    </tr>\n",
       "    <tr>\n",
       "      <th>4</th>\n",
       "      <td>18847.60</td>\n",
       "      <td>1</td>\n",
       "      <td>0</td>\n",
       "      <td>0</td>\n",
       "      <td>0</td>\n",
       "      <td>1</td>\n",
       "      <td>0</td>\n",
       "      <td>0</td>\n",
       "      <td>0</td>\n",
       "      <td>0</td>\n",
       "      <td>0</td>\n",
       "    </tr>\n",
       "  </tbody>\n",
       "</table>\n",
       "</div>"
      ],
      "text/plain": [
       "     salary  database  python  api  algorithm  cloud  forecast  bigdata  \\\n",
       "0  24232.63         1       0    0          0      0         0        0   \n",
       "1  18847.60         0       1    0          0      0         0        0   \n",
       "2  18847.60         1       0    0          0      1         0        0   \n",
       "3  33656.44         0       1    0          0      0         0        0   \n",
       "4  18847.60         1       0    0          0      1         0        0   \n",
       "\n",
       "   dashboard  project_management  finance  \n",
       "0          0                   0        0  \n",
       "1          0                   0        0  \n",
       "2          0                   0        0  \n",
       "3          0                   0        0  \n",
       "4          0                   0        0  "
      ]
     },
     "execution_count": 280,
     "metadata": {},
     "output_type": "execute_result"
    }
   ],
   "source": [
    "# Convert Indian rupees to US dollars (conversion rate is as of 1/8/2022)\n",
    "df_updated['salary'] = round(df_updated['salary']/74.28, 2)\n",
    "df_updated.drop(columns=['description'], inplace=True)\n",
    "df_updated.head()"
   ]
  },
  {
   "cell_type": "code",
   "execution_count": 281,
   "id": "1a112f75",
   "metadata": {},
   "outputs": [
    {
     "data": {
      "text/plain": [
       "(235, 11)"
      ]
     },
     "execution_count": 281,
     "metadata": {},
     "output_type": "execute_result"
    }
   ],
   "source": [
    "# Determine data count\n",
    "df_updated.shape"
   ]
  },
  {
   "cell_type": "code",
   "execution_count": 282,
   "id": "6f923ca9",
   "metadata": {},
   "outputs": [
    {
     "data": {
      "text/html": [
       "<div>\n",
       "<style scoped>\n",
       "    .dataframe tbody tr th:only-of-type {\n",
       "        vertical-align: middle;\n",
       "    }\n",
       "\n",
       "    .dataframe tbody tr th {\n",
       "        vertical-align: top;\n",
       "    }\n",
       "\n",
       "    .dataframe thead th {\n",
       "        text-align: right;\n",
       "    }\n",
       "</style>\n",
       "<table border=\"1\" class=\"dataframe\">\n",
       "  <thead>\n",
       "    <tr style=\"text-align: right;\">\n",
       "      <th></th>\n",
       "      <th>salary</th>\n",
       "      <th>database</th>\n",
       "      <th>python</th>\n",
       "      <th>api</th>\n",
       "      <th>algorithm</th>\n",
       "      <th>cloud</th>\n",
       "      <th>forecast</th>\n",
       "      <th>bigdata</th>\n",
       "      <th>dashboard</th>\n",
       "      <th>project_management</th>\n",
       "      <th>finance</th>\n",
       "    </tr>\n",
       "  </thead>\n",
       "  <tbody>\n",
       "    <tr>\n",
       "      <th>count</th>\n",
       "      <td>235.000000</td>\n",
       "      <td>235.000000</td>\n",
       "      <td>235.000000</td>\n",
       "      <td>235.000000</td>\n",
       "      <td>235.000000</td>\n",
       "      <td>235.000000</td>\n",
       "      <td>235.000000</td>\n",
       "      <td>235.000000</td>\n",
       "      <td>235.000000</td>\n",
       "      <td>235.000000</td>\n",
       "      <td>235.000000</td>\n",
       "    </tr>\n",
       "    <tr>\n",
       "      <th>mean</th>\n",
       "      <td>20196.380340</td>\n",
       "      <td>0.459574</td>\n",
       "      <td>0.344681</td>\n",
       "      <td>0.110638</td>\n",
       "      <td>0.076596</td>\n",
       "      <td>0.310638</td>\n",
       "      <td>0.038298</td>\n",
       "      <td>0.059574</td>\n",
       "      <td>0.089362</td>\n",
       "      <td>0.208511</td>\n",
       "      <td>0.234043</td>\n",
       "    </tr>\n",
       "    <tr>\n",
       "      <th>std</th>\n",
       "      <td>9380.401814</td>\n",
       "      <td>0.499427</td>\n",
       "      <td>0.476279</td>\n",
       "      <td>0.314353</td>\n",
       "      <td>0.266517</td>\n",
       "      <td>0.463743</td>\n",
       "      <td>0.192324</td>\n",
       "      <td>0.237202</td>\n",
       "      <td>0.285874</td>\n",
       "      <td>0.407111</td>\n",
       "      <td>0.424303</td>\n",
       "    </tr>\n",
       "    <tr>\n",
       "      <th>min</th>\n",
       "      <td>0.000000</td>\n",
       "      <td>0.000000</td>\n",
       "      <td>0.000000</td>\n",
       "      <td>0.000000</td>\n",
       "      <td>0.000000</td>\n",
       "      <td>0.000000</td>\n",
       "      <td>0.000000</td>\n",
       "      <td>0.000000</td>\n",
       "      <td>0.000000</td>\n",
       "      <td>0.000000</td>\n",
       "      <td>0.000000</td>\n",
       "    </tr>\n",
       "    <tr>\n",
       "      <th>25%</th>\n",
       "      <td>18847.600000</td>\n",
       "      <td>0.000000</td>\n",
       "      <td>0.000000</td>\n",
       "      <td>0.000000</td>\n",
       "      <td>0.000000</td>\n",
       "      <td>0.000000</td>\n",
       "      <td>0.000000</td>\n",
       "      <td>0.000000</td>\n",
       "      <td>0.000000</td>\n",
       "      <td>0.000000</td>\n",
       "      <td>0.000000</td>\n",
       "    </tr>\n",
       "    <tr>\n",
       "      <th>50%</th>\n",
       "      <td>18847.600000</td>\n",
       "      <td>0.000000</td>\n",
       "      <td>0.000000</td>\n",
       "      <td>0.000000</td>\n",
       "      <td>0.000000</td>\n",
       "      <td>0.000000</td>\n",
       "      <td>0.000000</td>\n",
       "      <td>0.000000</td>\n",
       "      <td>0.000000</td>\n",
       "      <td>0.000000</td>\n",
       "      <td>0.000000</td>\n",
       "    </tr>\n",
       "    <tr>\n",
       "      <th>75%</th>\n",
       "      <td>21540.120000</td>\n",
       "      <td>1.000000</td>\n",
       "      <td>1.000000</td>\n",
       "      <td>0.000000</td>\n",
       "      <td>0.000000</td>\n",
       "      <td>1.000000</td>\n",
       "      <td>0.000000</td>\n",
       "      <td>0.000000</td>\n",
       "      <td>0.000000</td>\n",
       "      <td>0.000000</td>\n",
       "      <td>0.000000</td>\n",
       "    </tr>\n",
       "    <tr>\n",
       "      <th>max</th>\n",
       "      <td>72697.900000</td>\n",
       "      <td>1.000000</td>\n",
       "      <td>1.000000</td>\n",
       "      <td>1.000000</td>\n",
       "      <td>1.000000</td>\n",
       "      <td>1.000000</td>\n",
       "      <td>1.000000</td>\n",
       "      <td>1.000000</td>\n",
       "      <td>1.000000</td>\n",
       "      <td>1.000000</td>\n",
       "      <td>1.000000</td>\n",
       "    </tr>\n",
       "  </tbody>\n",
       "</table>\n",
       "</div>"
      ],
      "text/plain": [
       "             salary    database      python         api   algorithm  \\\n",
       "count    235.000000  235.000000  235.000000  235.000000  235.000000   \n",
       "mean   20196.380340    0.459574    0.344681    0.110638    0.076596   \n",
       "std     9380.401814    0.499427    0.476279    0.314353    0.266517   \n",
       "min        0.000000    0.000000    0.000000    0.000000    0.000000   \n",
       "25%    18847.600000    0.000000    0.000000    0.000000    0.000000   \n",
       "50%    18847.600000    0.000000    0.000000    0.000000    0.000000   \n",
       "75%    21540.120000    1.000000    1.000000    0.000000    0.000000   \n",
       "max    72697.900000    1.000000    1.000000    1.000000    1.000000   \n",
       "\n",
       "            cloud    forecast     bigdata   dashboard  project_management  \\\n",
       "count  235.000000  235.000000  235.000000  235.000000          235.000000   \n",
       "mean     0.310638    0.038298    0.059574    0.089362            0.208511   \n",
       "std      0.463743    0.192324    0.237202    0.285874            0.407111   \n",
       "min      0.000000    0.000000    0.000000    0.000000            0.000000   \n",
       "25%      0.000000    0.000000    0.000000    0.000000            0.000000   \n",
       "50%      0.000000    0.000000    0.000000    0.000000            0.000000   \n",
       "75%      1.000000    0.000000    0.000000    0.000000            0.000000   \n",
       "max      1.000000    1.000000    1.000000    1.000000            1.000000   \n",
       "\n",
       "          finance  \n",
       "count  235.000000  \n",
       "mean     0.234043  \n",
       "std      0.424303  \n",
       "min      0.000000  \n",
       "25%      0.000000  \n",
       "50%      0.000000  \n",
       "75%      0.000000  \n",
       "max      1.000000  "
      ]
     },
     "execution_count": 282,
     "metadata": {},
     "output_type": "execute_result"
    }
   ],
   "source": [
    "# Review new data set\n",
    "df_updated.describe()"
   ]
  },
  {
   "cell_type": "code",
   "execution_count": 283,
   "id": "714ec4e9",
   "metadata": {},
   "outputs": [],
   "source": [
    "# Add a total_skills column that sums all 1's across the rows\n",
    "df_updated['total_skills'] = df_updated[all_skills].sum(axis=1)"
   ]
  },
  {
   "cell_type": "code",
   "execution_count": 284,
   "id": "6eb58054",
   "metadata": {},
   "outputs": [
    {
     "data": {
      "text/html": [
       "<div>\n",
       "<style scoped>\n",
       "    .dataframe tbody tr th:only-of-type {\n",
       "        vertical-align: middle;\n",
       "    }\n",
       "\n",
       "    .dataframe tbody tr th {\n",
       "        vertical-align: top;\n",
       "    }\n",
       "\n",
       "    .dataframe thead th {\n",
       "        text-align: right;\n",
       "    }\n",
       "</style>\n",
       "<table border=\"1\" class=\"dataframe\">\n",
       "  <thead>\n",
       "    <tr style=\"text-align: right;\">\n",
       "      <th></th>\n",
       "      <th>salary</th>\n",
       "      <th>database</th>\n",
       "      <th>python</th>\n",
       "      <th>api</th>\n",
       "      <th>algorithm</th>\n",
       "      <th>cloud</th>\n",
       "      <th>forecast</th>\n",
       "      <th>bigdata</th>\n",
       "      <th>dashboard</th>\n",
       "      <th>project_management</th>\n",
       "      <th>finance</th>\n",
       "      <th>total_skills</th>\n",
       "    </tr>\n",
       "  </thead>\n",
       "  <tbody>\n",
       "    <tr>\n",
       "      <th>0</th>\n",
       "      <td>24232.63</td>\n",
       "      <td>1</td>\n",
       "      <td>0</td>\n",
       "      <td>0</td>\n",
       "      <td>0</td>\n",
       "      <td>0</td>\n",
       "      <td>0</td>\n",
       "      <td>0</td>\n",
       "      <td>0</td>\n",
       "      <td>0</td>\n",
       "      <td>0</td>\n",
       "      <td>1</td>\n",
       "    </tr>\n",
       "    <tr>\n",
       "      <th>1</th>\n",
       "      <td>18847.60</td>\n",
       "      <td>0</td>\n",
       "      <td>1</td>\n",
       "      <td>0</td>\n",
       "      <td>0</td>\n",
       "      <td>0</td>\n",
       "      <td>0</td>\n",
       "      <td>0</td>\n",
       "      <td>0</td>\n",
       "      <td>0</td>\n",
       "      <td>0</td>\n",
       "      <td>1</td>\n",
       "    </tr>\n",
       "    <tr>\n",
       "      <th>2</th>\n",
       "      <td>18847.60</td>\n",
       "      <td>1</td>\n",
       "      <td>0</td>\n",
       "      <td>0</td>\n",
       "      <td>0</td>\n",
       "      <td>1</td>\n",
       "      <td>0</td>\n",
       "      <td>0</td>\n",
       "      <td>0</td>\n",
       "      <td>0</td>\n",
       "      <td>0</td>\n",
       "      <td>2</td>\n",
       "    </tr>\n",
       "    <tr>\n",
       "      <th>3</th>\n",
       "      <td>33656.44</td>\n",
       "      <td>0</td>\n",
       "      <td>1</td>\n",
       "      <td>0</td>\n",
       "      <td>0</td>\n",
       "      <td>0</td>\n",
       "      <td>0</td>\n",
       "      <td>0</td>\n",
       "      <td>0</td>\n",
       "      <td>0</td>\n",
       "      <td>0</td>\n",
       "      <td>1</td>\n",
       "    </tr>\n",
       "    <tr>\n",
       "      <th>4</th>\n",
       "      <td>18847.60</td>\n",
       "      <td>1</td>\n",
       "      <td>0</td>\n",
       "      <td>0</td>\n",
       "      <td>0</td>\n",
       "      <td>1</td>\n",
       "      <td>0</td>\n",
       "      <td>0</td>\n",
       "      <td>0</td>\n",
       "      <td>0</td>\n",
       "      <td>0</td>\n",
       "      <td>2</td>\n",
       "    </tr>\n",
       "  </tbody>\n",
       "</table>\n",
       "</div>"
      ],
      "text/plain": [
       "     salary  database  python  api  algorithm  cloud  forecast  bigdata  \\\n",
       "0  24232.63         1       0    0          0      0         0        0   \n",
       "1  18847.60         0       1    0          0      0         0        0   \n",
       "2  18847.60         1       0    0          0      1         0        0   \n",
       "3  33656.44         0       1    0          0      0         0        0   \n",
       "4  18847.60         1       0    0          0      1         0        0   \n",
       "\n",
       "   dashboard  project_management  finance  total_skills  \n",
       "0          0                   0        0             1  \n",
       "1          0                   0        0             1  \n",
       "2          0                   0        0             2  \n",
       "3          0                   0        0             1  \n",
       "4          0                   0        0             2  "
      ]
     },
     "execution_count": 284,
     "metadata": {},
     "output_type": "execute_result"
    }
   ],
   "source": [
    "# Preview updated columns\n",
    "df_updated.head()"
   ]
  },
  {
   "cell_type": "code",
   "execution_count": 285,
   "id": "cd72b5ad",
   "metadata": {},
   "outputs": [
    {
     "data": {
      "image/png": "[encoded data removed]",
      "text/plain": [
       "<Figure size 720x720 with 1 Axes>"
      ]
     },
     "metadata": {
      "needs_background": "light"
     },
     "output_type": "display_data"
    },
    {
     "data": {
      "image/png": "[encoded data removed]",
      "text/plain": [
       "<Figure size 720x720 with 1 Axes>"
      ]
     },
     "metadata": {
      "needs_background": "light"
     },
     "output_type": "display_data"
    },
    {
     "data": {
      "image/png": "[encoded data removed]",
      "text/plain": [
       "<Figure size 720x720 with 1 Axes>"
      ]
     },
     "metadata": {
      "needs_background": "light"
     },
     "output_type": "display_data"
    },
    {
     "data": {
      "image/png": "[encoded data removed]",
      "text/plain": [
       "<Figure size 720x720 with 1 Axes>"
      ]
     },
     "metadata": {
      "needs_background": "light"
     },
     "output_type": "display_data"
    },
    {
     "data": {
      "image/png": "[encoded data removed]",
      "text/plain": [
       "<Figure size 720x720 with 1 Axes>"
      ]
     },
     "metadata": {
      "needs_background": "light"
     },
     "output_type": "display_data"
    },
    {
     "data": {
      "image/png": "[encoded data removed]",
      "text/plain": [
       "<Figure size 720x720 with 1 Axes>"
      ]
     },
     "metadata": {
      "needs_background": "light"
     },
     "output_type": "display_data"
    },
    {
     "data": {
      "image/png": "[encoded data removed]",
      "text/plain": [
       "<Figure size 720x720 with 1 Axes>"
      ]
     },
     "metadata": {
      "needs_background": "light"
     },
     "output_type": "display_data"
    },
    {
     "data": {
      "image/png": "[encoded data removed]",
      "text/plain": [
       "<Figure size 720x720 with 1 Axes>"
      ]
     },
     "metadata": {
      "needs_background": "light"
     },
     "output_type": "display_data"
    },
    {
     "data": {
      "image/png": "[encoded data removed]",
      "text/plain": [
       "<Figure size 720x720 with 1 Axes>"
      ]
     },
     "metadata": {
      "needs_background": "light"
     },
     "output_type": "display_data"
    }
   ],
   "source": [
    "# Create boxplots for each skill\n",
    "# Loop through all the dataframe columns, exluding the 'salary' column\n",
    "for skill in df_updated.columns[1:10]:\n",
    "    \n",
    "    # Create a matplotlib new figure\n",
    "    plt.figure(figsize=(10,10))\n",
    "    \n",
    "    # Add a title to the boxplot\n",
    "    plt.title(f\"Salary Distribution for Jobs with {skill} skill\")\n",
    "    \n",
    "    # PLot boxplot\n",
    "    plt.boxplot(df_updated[df_updated[skill]==1]['salary'], vert=True)"
   ]
  },
  {
   "cell_type": "code",
   "execution_count": 286,
   "id": "3f2fc35f",
   "metadata": {},
   "outputs": [
    {
     "data": {
      "image/png": "[encoded data removed]",
      "text/plain": [
       "<Figure size 1440x720 with 1 Axes>"
      ]
     },
     "metadata": {
      "needs_background": "light"
     },
     "output_type": "display_data"
    }
   ],
   "source": [
    "# Create boxplot for total skills\n",
    "df_updated[df_updated['total_skills']!=0][['salary','total_skills']]\n",
    "plt.figure(figsize=(20,10))\n",
    "plt.title(\"Salary Distribution by Count of Skills\")\n",
    "sns.boxplot(x='total_skills', y='salary', data=df_updated[df_updated['total_skills']!=0][['salary','total_skills']]);"
   ]
  },
  {
   "cell_type": "markdown",
   "id": "e3f254e5",
   "metadata": {},
   "source": [
    "#### Training and Testing"
   ]
  },
  {
   "cell_type": "code",
   "execution_count": 287,
   "id": "31500673",
   "metadata": {},
   "outputs": [],
   "source": [
    "# Set the random seed\n",
    "from numpy.random import seed\n",
    "seed(1)\n",
    "from tensorflow import random\n",
    "random.set_seed(2)"
   ]
  },
  {
   "cell_type": "code",
   "execution_count": 288,
   "id": "14677469",
   "metadata": {},
   "outputs": [
    {
     "data": {
      "text/html": [
       "<div>\n",
       "<style scoped>\n",
       "    .dataframe tbody tr th:only-of-type {\n",
       "        vertical-align: middle;\n",
       "    }\n",
       "\n",
       "    .dataframe tbody tr th {\n",
       "        vertical-align: top;\n",
       "    }\n",
       "\n",
       "    .dataframe thead th {\n",
       "        text-align: right;\n",
       "    }\n",
       "</style>\n",
       "<table border=\"1\" class=\"dataframe\">\n",
       "  <thead>\n",
       "    <tr style=\"text-align: right;\">\n",
       "      <th></th>\n",
       "      <th>database</th>\n",
       "      <th>python</th>\n",
       "      <th>api</th>\n",
       "      <th>algorithm</th>\n",
       "      <th>cloud</th>\n",
       "      <th>forecast</th>\n",
       "      <th>bigdata</th>\n",
       "      <th>dashboard</th>\n",
       "      <th>project_management</th>\n",
       "      <th>finance</th>\n",
       "      <th>total_skills</th>\n",
       "    </tr>\n",
       "  </thead>\n",
       "  <tbody>\n",
       "    <tr>\n",
       "      <th>0</th>\n",
       "      <td>1</td>\n",
       "      <td>0</td>\n",
       "      <td>0</td>\n",
       "      <td>0</td>\n",
       "      <td>0</td>\n",
       "      <td>0</td>\n",
       "      <td>0</td>\n",
       "      <td>0</td>\n",
       "      <td>0</td>\n",
       "      <td>0</td>\n",
       "      <td>1</td>\n",
       "    </tr>\n",
       "    <tr>\n",
       "      <th>1</th>\n",
       "      <td>0</td>\n",
       "      <td>1</td>\n",
       "      <td>0</td>\n",
       "      <td>0</td>\n",
       "      <td>0</td>\n",
       "      <td>0</td>\n",
       "      <td>0</td>\n",
       "      <td>0</td>\n",
       "      <td>0</td>\n",
       "      <td>0</td>\n",
       "      <td>1</td>\n",
       "    </tr>\n",
       "    <tr>\n",
       "      <th>2</th>\n",
       "      <td>1</td>\n",
       "      <td>0</td>\n",
       "      <td>0</td>\n",
       "      <td>0</td>\n",
       "      <td>1</td>\n",
       "      <td>0</td>\n",
       "      <td>0</td>\n",
       "      <td>0</td>\n",
       "      <td>0</td>\n",
       "      <td>0</td>\n",
       "      <td>2</td>\n",
       "    </tr>\n",
       "    <tr>\n",
       "      <th>3</th>\n",
       "      <td>0</td>\n",
       "      <td>1</td>\n",
       "      <td>0</td>\n",
       "      <td>0</td>\n",
       "      <td>0</td>\n",
       "      <td>0</td>\n",
       "      <td>0</td>\n",
       "      <td>0</td>\n",
       "      <td>0</td>\n",
       "      <td>0</td>\n",
       "      <td>1</td>\n",
       "    </tr>\n",
       "    <tr>\n",
       "      <th>4</th>\n",
       "      <td>1</td>\n",
       "      <td>0</td>\n",
       "      <td>0</td>\n",
       "      <td>0</td>\n",
       "      <td>1</td>\n",
       "      <td>0</td>\n",
       "      <td>0</td>\n",
       "      <td>0</td>\n",
       "      <td>0</td>\n",
       "      <td>0</td>\n",
       "      <td>2</td>\n",
       "    </tr>\n",
       "    <tr>\n",
       "      <th>5</th>\n",
       "      <td>0</td>\n",
       "      <td>0</td>\n",
       "      <td>0</td>\n",
       "      <td>0</td>\n",
       "      <td>0</td>\n",
       "      <td>0</td>\n",
       "      <td>0</td>\n",
       "      <td>0</td>\n",
       "      <td>1</td>\n",
       "      <td>0</td>\n",
       "      <td>1</td>\n",
       "    </tr>\n",
       "    <tr>\n",
       "      <th>6</th>\n",
       "      <td>0</td>\n",
       "      <td>0</td>\n",
       "      <td>0</td>\n",
       "      <td>0</td>\n",
       "      <td>1</td>\n",
       "      <td>0</td>\n",
       "      <td>0</td>\n",
       "      <td>0</td>\n",
       "      <td>0</td>\n",
       "      <td>0</td>\n",
       "      <td>1</td>\n",
       "    </tr>\n",
       "    <tr>\n",
       "      <th>7</th>\n",
       "      <td>0</td>\n",
       "      <td>0</td>\n",
       "      <td>1</td>\n",
       "      <td>0</td>\n",
       "      <td>0</td>\n",
       "      <td>0</td>\n",
       "      <td>0</td>\n",
       "      <td>0</td>\n",
       "      <td>1</td>\n",
       "      <td>0</td>\n",
       "      <td>2</td>\n",
       "    </tr>\n",
       "    <tr>\n",
       "      <th>8</th>\n",
       "      <td>0</td>\n",
       "      <td>0</td>\n",
       "      <td>0</td>\n",
       "      <td>1</td>\n",
       "      <td>0</td>\n",
       "      <td>0</td>\n",
       "      <td>0</td>\n",
       "      <td>0</td>\n",
       "      <td>0</td>\n",
       "      <td>0</td>\n",
       "      <td>1</td>\n",
       "    </tr>\n",
       "    <tr>\n",
       "      <th>9</th>\n",
       "      <td>0</td>\n",
       "      <td>1</td>\n",
       "      <td>0</td>\n",
       "      <td>0</td>\n",
       "      <td>0</td>\n",
       "      <td>0</td>\n",
       "      <td>0</td>\n",
       "      <td>0</td>\n",
       "      <td>0</td>\n",
       "      <td>1</td>\n",
       "      <td>2</td>\n",
       "    </tr>\n",
       "  </tbody>\n",
       "</table>\n",
       "</div>"
      ],
      "text/plain": [
       "   database  python  api  algorithm  cloud  forecast  bigdata  dashboard  \\\n",
       "0         1       0    0          0      0         0        0          0   \n",
       "1         0       1    0          0      0         0        0          0   \n",
       "2         1       0    0          0      1         0        0          0   \n",
       "3         0       1    0          0      0         0        0          0   \n",
       "4         1       0    0          0      1         0        0          0   \n",
       "5         0       0    0          0      0         0        0          0   \n",
       "6         0       0    0          0      1         0        0          0   \n",
       "7         0       0    1          0      0         0        0          0   \n",
       "8         0       0    0          1      0         0        0          0   \n",
       "9         0       1    0          0      0         0        0          0   \n",
       "\n",
       "   project_management  finance  total_skills  \n",
       "0                   0        0             1  \n",
       "1                   0        0             1  \n",
       "2                   0        0             2  \n",
       "3                   0        0             1  \n",
       "4                   0        0             2  \n",
       "5                   1        0             1  \n",
       "6                   0        0             1  \n",
       "7                   1        0             2  \n",
       "8                   0        0             1  \n",
       "9                   0        1             2  "
      ]
     },
     "metadata": {},
     "output_type": "display_data"
    },
    {
     "data": {
      "text/plain": [
       "0    24232.63\n",
       "1    18847.60\n",
       "2    18847.60\n",
       "3    33656.44\n",
       "4    18847.60\n",
       "5    18847.60\n",
       "6    18847.60\n",
       "7    24232.63\n",
       "8    26925.15\n",
       "9    20193.86\n",
       "Name: salary, dtype: float64"
      ]
     },
     "metadata": {},
     "output_type": "display_data"
    }
   ],
   "source": [
    "# Assign X and y\n",
    "#X = df_updated[['database','python','api','algorithm','cloud','forecast','bigdata','dashboard','project_management','total_skills']]\n",
    "X = df_updated.drop(columns=\"salary\")\n",
    "y = df_updated['salary']\n",
    "display(X.head(10))\n",
    "display(y.head(10))"
   ]
  },
  {
   "cell_type": "code",
   "execution_count": 289,
   "id": "4c467560",
   "metadata": {},
   "outputs": [
    {
     "data": {
      "text/html": [
       "<div>\n",
       "<style scoped>\n",
       "    .dataframe tbody tr th:only-of-type {\n",
       "        vertical-align: middle;\n",
       "    }\n",
       "\n",
       "    .dataframe tbody tr th {\n",
       "        vertical-align: top;\n",
       "    }\n",
       "\n",
       "    .dataframe thead th {\n",
       "        text-align: right;\n",
       "    }\n",
       "</style>\n",
       "<table border=\"1\" class=\"dataframe\">\n",
       "  <thead>\n",
       "    <tr style=\"text-align: right;\">\n",
       "      <th></th>\n",
       "      <th>database</th>\n",
       "      <th>python</th>\n",
       "      <th>api</th>\n",
       "      <th>algorithm</th>\n",
       "      <th>cloud</th>\n",
       "      <th>forecast</th>\n",
       "      <th>bigdata</th>\n",
       "      <th>dashboard</th>\n",
       "      <th>project_management</th>\n",
       "      <th>finance</th>\n",
       "      <th>total_skills</th>\n",
       "    </tr>\n",
       "  </thead>\n",
       "  <tbody>\n",
       "    <tr>\n",
       "      <th>224</th>\n",
       "      <td>1</td>\n",
       "      <td>0</td>\n",
       "      <td>0</td>\n",
       "      <td>0</td>\n",
       "      <td>0</td>\n",
       "      <td>0</td>\n",
       "      <td>0</td>\n",
       "      <td>1</td>\n",
       "      <td>0</td>\n",
       "      <td>0</td>\n",
       "      <td>2</td>\n",
       "    </tr>\n",
       "    <tr>\n",
       "      <th>186</th>\n",
       "      <td>1</td>\n",
       "      <td>1</td>\n",
       "      <td>0</td>\n",
       "      <td>0</td>\n",
       "      <td>0</td>\n",
       "      <td>0</td>\n",
       "      <td>0</td>\n",
       "      <td>0</td>\n",
       "      <td>1</td>\n",
       "      <td>0</td>\n",
       "      <td>3</td>\n",
       "    </tr>\n",
       "    <tr>\n",
       "      <th>190</th>\n",
       "      <td>0</td>\n",
       "      <td>0</td>\n",
       "      <td>0</td>\n",
       "      <td>0</td>\n",
       "      <td>0</td>\n",
       "      <td>1</td>\n",
       "      <td>0</td>\n",
       "      <td>0</td>\n",
       "      <td>0</td>\n",
       "      <td>0</td>\n",
       "      <td>1</td>\n",
       "    </tr>\n",
       "    <tr>\n",
       "      <th>7</th>\n",
       "      <td>0</td>\n",
       "      <td>0</td>\n",
       "      <td>1</td>\n",
       "      <td>0</td>\n",
       "      <td>0</td>\n",
       "      <td>0</td>\n",
       "      <td>0</td>\n",
       "      <td>0</td>\n",
       "      <td>1</td>\n",
       "      <td>0</td>\n",
       "      <td>2</td>\n",
       "    </tr>\n",
       "    <tr>\n",
       "      <th>28</th>\n",
       "      <td>0</td>\n",
       "      <td>0</td>\n",
       "      <td>0</td>\n",
       "      <td>0</td>\n",
       "      <td>0</td>\n",
       "      <td>0</td>\n",
       "      <td>0</td>\n",
       "      <td>1</td>\n",
       "      <td>0</td>\n",
       "      <td>0</td>\n",
       "      <td>1</td>\n",
       "    </tr>\n",
       "    <tr>\n",
       "      <th>...</th>\n",
       "      <td>...</td>\n",
       "      <td>...</td>\n",
       "      <td>...</td>\n",
       "      <td>...</td>\n",
       "      <td>...</td>\n",
       "      <td>...</td>\n",
       "      <td>...</td>\n",
       "      <td>...</td>\n",
       "      <td>...</td>\n",
       "      <td>...</td>\n",
       "      <td>...</td>\n",
       "    </tr>\n",
       "    <tr>\n",
       "      <th>87</th>\n",
       "      <td>0</td>\n",
       "      <td>0</td>\n",
       "      <td>0</td>\n",
       "      <td>0</td>\n",
       "      <td>1</td>\n",
       "      <td>0</td>\n",
       "      <td>0</td>\n",
       "      <td>0</td>\n",
       "      <td>1</td>\n",
       "      <td>0</td>\n",
       "      <td>2</td>\n",
       "    </tr>\n",
       "    <tr>\n",
       "      <th>103</th>\n",
       "      <td>0</td>\n",
       "      <td>1</td>\n",
       "      <td>0</td>\n",
       "      <td>0</td>\n",
       "      <td>0</td>\n",
       "      <td>0</td>\n",
       "      <td>0</td>\n",
       "      <td>0</td>\n",
       "      <td>0</td>\n",
       "      <td>0</td>\n",
       "      <td>1</td>\n",
       "    </tr>\n",
       "    <tr>\n",
       "      <th>67</th>\n",
       "      <td>1</td>\n",
       "      <td>0</td>\n",
       "      <td>0</td>\n",
       "      <td>1</td>\n",
       "      <td>0</td>\n",
       "      <td>0</td>\n",
       "      <td>0</td>\n",
       "      <td>0</td>\n",
       "      <td>0</td>\n",
       "      <td>0</td>\n",
       "      <td>2</td>\n",
       "    </tr>\n",
       "    <tr>\n",
       "      <th>24</th>\n",
       "      <td>0</td>\n",
       "      <td>1</td>\n",
       "      <td>0</td>\n",
       "      <td>0</td>\n",
       "      <td>0</td>\n",
       "      <td>0</td>\n",
       "      <td>0</td>\n",
       "      <td>0</td>\n",
       "      <td>0</td>\n",
       "      <td>1</td>\n",
       "      <td>2</td>\n",
       "    </tr>\n",
       "    <tr>\n",
       "      <th>8</th>\n",
       "      <td>0</td>\n",
       "      <td>0</td>\n",
       "      <td>0</td>\n",
       "      <td>1</td>\n",
       "      <td>0</td>\n",
       "      <td>0</td>\n",
       "      <td>0</td>\n",
       "      <td>0</td>\n",
       "      <td>0</td>\n",
       "      <td>0</td>\n",
       "      <td>1</td>\n",
       "    </tr>\n",
       "  </tbody>\n",
       "</table>\n",
       "<p>164 rows × 11 columns</p>\n",
       "</div>"
      ],
      "text/plain": [
       "     database  python  api  algorithm  cloud  forecast  bigdata  dashboard  \\\n",
       "224         1       0    0          0      0         0        0          1   \n",
       "186         1       1    0          0      0         0        0          0   \n",
       "190         0       0    0          0      0         1        0          0   \n",
       "7           0       0    1          0      0         0        0          0   \n",
       "28          0       0    0          0      0         0        0          1   \n",
       "..        ...     ...  ...        ...    ...       ...      ...        ...   \n",
       "87          0       0    0          0      1         0        0          0   \n",
       "103         0       1    0          0      0         0        0          0   \n",
       "67          1       0    0          1      0         0        0          0   \n",
       "24          0       1    0          0      0         0        0          0   \n",
       "8           0       0    0          1      0         0        0          0   \n",
       "\n",
       "     project_management  finance  total_skills  \n",
       "224                   0        0             2  \n",
       "186                   1        0             3  \n",
       "190                   0        0             1  \n",
       "7                     1        0             2  \n",
       "28                    0        0             1  \n",
       "..                  ...      ...           ...  \n",
       "87                    1        0             2  \n",
       "103                   0        0             1  \n",
       "67                    0        0             2  \n",
       "24                    0        1             2  \n",
       "8                     0        0             1  \n",
       "\n",
       "[164 rows x 11 columns]"
      ]
     },
     "execution_count": 289,
     "metadata": {},
     "output_type": "execute_result"
    }
   ],
   "source": [
    "# Use 70% of the data for training and the remainder for testing\n",
    "x_train, x_test,y_train,y_test = train_test_split(X, y, train_size=0.7, test_size =0.3, random_state = 100)\n",
    "\n",
    "# print the data\n",
    "x_train"
   ]
  },
  {
   "cell_type": "code",
   "execution_count": 290,
   "id": "3c3e4405",
   "metadata": {},
   "outputs": [],
   "source": [
    "# Run linear regression model\n",
    "clf = LinearRegression()"
   ]
  },
  {
   "cell_type": "code",
   "execution_count": 291,
   "id": "ef026f0f",
   "metadata": {},
   "outputs": [
    {
     "name": "stdout",
     "output_type": "stream",
     "text": [
      "19836.776889204477\n",
      "[-2058.88993757  1031.51866865   209.4808471   4600.21267524\n",
      "   323.80645339 -1461.85858215 -1040.90021355 -1698.03940629\n",
      "  -822.20101965  1150.15477575   233.28426092]\n"
     ]
    }
   ],
   "source": [
    "clf.fit(x_train,y_train)\n",
    "print(clf.intercept_)\n",
    "print(clf.coef_)"
   ]
  },
  {
   "cell_type": "code",
   "execution_count": 292,
   "id": "d649f8ce",
   "metadata": {},
   "outputs": [],
   "source": [
    "y_pred = clf.predict(x_test)"
   ]
  },
  {
   "cell_type": "code",
   "execution_count": 293,
   "id": "42abf930",
   "metadata": {},
   "outputs": [
    {
     "data": {
      "text/plain": [
       "-0.014218461549869277"
      ]
     },
     "execution_count": 293,
     "metadata": {},
     "output_type": "execute_result"
    }
   ],
   "source": [
    "clf.score(x_test,y_test)"
   ]
  },
  {
   "cell_type": "markdown",
   "id": "f5c263c5",
   "metadata": {},
   "source": [
    "#### Model Building, Comparison, and Evaluation"
   ]
  },
  {
   "cell_type": "markdown",
   "id": "cafc85b5",
   "metadata": {},
   "source": [
    "We ran five machine learning algorithms to compare to the linear regression model to determine the best model to use.  "
   ]
  },
  {
   "cell_type": "markdown",
   "id": "36d84e89",
   "metadata": {},
   "source": [
    "##### Extra Trees"
   ]
  },
  {
   "cell_type": "code",
   "execution_count": 294,
   "id": "fc34376d",
   "metadata": {},
   "outputs": [],
   "source": [
    "# Define Model\n",
    "et_model = ExtraTreesRegressor(n_estimators=1000, max_depth=4, random_state=25)\n",
    "\n",
    "# Fit the Model\n",
    "et_model.fit(x_train, y_train)\n",
    "\n",
    "# Make predictions using the testing data\n",
    "y_pred_et = et_model.predict(x_test)"
   ]
  },
  {
   "cell_type": "markdown",
   "id": "39199f39",
   "metadata": {},
   "source": [
    "##### Ridge"
   ]
  },
  {
   "cell_type": "code",
   "execution_count": 295,
   "id": "98117548",
   "metadata": {},
   "outputs": [],
   "source": [
    "# Define Model\n",
    "r_model = Ridge(alpha=1.0, random_state=25)\n",
    "\n",
    "# Fit the Model\n",
    "r_model.fit(x_train, y_train)\n",
    "\n",
    "# Make predictions using the testing data\n",
    "y_pred_r = r_model.predict(x_test)"
   ]
  },
  {
   "cell_type": "markdown",
   "id": "02357bf8",
   "metadata": {},
   "source": [
    "##### Lasso"
   ]
  },
  {
   "cell_type": "code",
   "execution_count": 296,
   "id": "1960517f",
   "metadata": {},
   "outputs": [],
   "source": [
    "# Instantiate machine learning model\n",
    "lasso = Lasso()\n",
    "\n",
    "# Fit the machine learning model with the training data\n",
    "lasso.fit(x_train, y_train)\n",
    "\n",
    "# Make predictions using the testing data\n",
    "y_pred_lasso = lasso.predict(x_test)"
   ]
  },
  {
   "cell_type": "markdown",
   "id": "3c3edf9f",
   "metadata": {},
   "source": [
    "##### Random Forest"
   ]
  },
  {
   "cell_type": "code",
   "execution_count": 297,
   "id": "fe24f620",
   "metadata": {},
   "outputs": [],
   "source": [
    "# Instantiate machine learning model\n",
    "rf = RandomForestRegressor()\n",
    "\n",
    "# Fit the machine learning model with the training data\n",
    "rf.fit(x_train, y_train)\n",
    "\n",
    "# Make predictions using the testing data\n",
    "y_pred_rf = rf.predict(x_test)"
   ]
  },
  {
   "cell_type": "markdown",
   "id": "4723c130",
   "metadata": {},
   "source": [
    "##### SGD"
   ]
  },
  {
   "cell_type": "code",
   "execution_count": 298,
   "id": "8a744552",
   "metadata": {},
   "outputs": [],
   "source": [
    "# Instantiate machine learning model\n",
    "sgd = SGDRegressor()\n",
    "\n",
    "# Fit the machine learning model with the training data\n",
    "sgd.fit(x_train, y_train)\n",
    "\n",
    "# Make predictions using the testing data\n",
    "y_pred_sgd = sgd.predict(x_test)"
   ]
  },
  {
   "cell_type": "markdown",
   "id": "34850a8a",
   "metadata": {},
   "source": [
    "##### Compare each model"
   ]
  },
  {
   "cell_type": "code",
   "execution_count": 299,
   "id": "52dfca91",
   "metadata": {},
   "outputs": [
    {
     "name": "stdout",
     "output_type": "stream",
     "text": [
      "R2\n",
      "Linear Regression -0.014218461549869277\n",
      "Extra Trees -0.09125916287543223\n",
      "Ridge -0.01073082655987978\n",
      "Lasso -0.014035901877015755\n",
      "Random Forest -0.14156394519499993\n",
      "SGD -0.015897823987222504\n",
      "Mean Squared Error\n",
      "Linear Regression 98904273.67164248\n",
      "Extra Trees 106417107.34271847\n",
      "Ridge 98564167.45331393\n",
      "Lasso 98886470.86827235\n",
      "Random Forest 111322715.10490008\n",
      "SGD 99068041.27043381\n",
      "Root Mean Squared Error\n",
      "Linear Regression 9945.062778667738\n",
      "Extra Trees 10315.866776123006\n",
      "Ridge 9927.948803922889\n",
      "Lasso 9944.167681021492\n",
      "Random Forest 10550.958018346015\n",
      "SGD 9953.292986265089\n"
     ]
    }
   ],
   "source": [
    "# Get the coefficient of determination R2\n",
    "print(\"R2\")\n",
    "print(\"Linear Regression\", r2_score(y_test, y_pred))\n",
    "print(\"Extra Trees\", r2_score(y_test, y_pred_et))\n",
    "print(\"Ridge\", r2_score(y_test, y_pred_r))\n",
    "print(\"Lasso\", r2_score(y_test, y_pred_lasso))\n",
    "print(\"Random Forest\", r2_score(y_test, y_pred_rf))\n",
    "print(\"SGD\", r2_score(y_test, y_pred_sgd))\n",
    "\n",
    "# Get the Mean Squared Error\n",
    "print(\"Mean Squared Error\")\n",
    "print(\"Linear Regression\", mean_squared_error(y_test, y_pred))\n",
    "print(\"Extra Trees\", mean_squared_error(y_test, y_pred_et))\n",
    "print(\"Ridge\", mean_squared_error(y_test, y_pred_r))\n",
    "print(\"Lasso\", mean_squared_error(y_test, y_pred_lasso))\n",
    "print(\"Random Forest\", mean_squared_error(y_test, y_pred_rf))\n",
    "print(\"SGD\", mean_squared_error(y_test, y_pred_sgd))\n",
    "\n",
    "# Get the Root Mean Squared Error\n",
    "print(\"Root Mean Squared Error\")\n",
    "print(\"Linear Regression\", np.sqrt(mean_squared_error(y_test, y_pred)))\n",
    "print(\"Extra Trees\", np.sqrt(mean_squared_error(y_test, y_pred_et)))\n",
    "print(\"Ridge\", np.sqrt(mean_squared_error(y_test, y_pred_r)))\n",
    "print(\"Lasso\", np.sqrt(mean_squared_error(y_test, y_pred_lasso)))\n",
    "print(\"Random Forest\", np.sqrt(mean_squared_error(y_test, y_pred_rf)))\n",
    "print(\"SGD\", np.sqrt(mean_squared_error(y_test, y_pred_sgd)))"
   ]
  },
  {
   "cell_type": "code",
   "execution_count": 300,
   "id": "49aa9fde",
   "metadata": {},
   "outputs": [
    {
     "data": {
      "text/plain": [
       "[<matplotlib.lines.Line2D at 0x1a79f702fc8>]"
      ]
     },
     "execution_count": 300,
     "metadata": {},
     "output_type": "execute_result"
    },
    {
     "data": {
      "image/png": "[encoded data removed]",
      "text/plain": [
       "<Figure size 432x288 with 1 Axes>"
      ]
     },
     "metadata": {
      "needs_background": "light"
     },
     "output_type": "display_data"
    }
   ],
   "source": [
    "# Plot the model evaluation results\n",
    "\n",
    "# R2 Variables\n",
    "r2_Linear_Regression = r2_score(y_test, y_pred)\n",
    "r2_et = r2_score(y_test, y_pred_et)\n",
    "r2_r = r2_score(y_test, y_pred_r)\n",
    "r2_lasso = r2_score(y_test, y_pred_lasso)\n",
    "r2_rf = r2_score(y_test, y_pred_rf)\n",
    "r2_sgd = r2_score(y_test, y_pred_sgd)\n",
    "\n",
    "r2 = [r2_Linear_Regression, r2_et, r2_r, r2_lasso, r2_rf, r2_sgd]\n",
    "\n",
    "# Plot the values\n",
    "plt.plot(r2)"
   ]
  },
  {
   "cell_type": "code",
   "execution_count": 301,
   "id": "924cfd55",
   "metadata": {},
   "outputs": [
    {
     "data": {
      "text/plain": [
       "[<matplotlib.lines.Line2D at 0x1a7a56c2488>]"
      ]
     },
     "execution_count": 301,
     "metadata": {},
     "output_type": "execute_result"
    },
    {
     "data": {
      "image/png": "[encoded data removed]",
      "text/plain": [
       "<Figure size 432x288 with 1 Axes>"
      ]
     },
     "metadata": {
      "needs_background": "light"
     },
     "output_type": "display_data"
    }
   ],
   "source": [
    "# MSE Variables\n",
    "mse_Linear_Regression = mean_squared_error(y_test, y_pred)\n",
    "mse_et = mean_squared_error(y_test, y_pred_et)\n",
    "mse_r = mean_squared_error(y_test, y_pred_r)\n",
    "mse_lasso = mean_squared_error(y_test, y_pred_lasso)\n",
    "mse_rf = mean_squared_error(y_test, y_pred_rf)\n",
    "mse_sgd = mean_squared_error(y_test, y_pred_sgd)\n",
    "\n",
    "mse = [mse_Linear_Regression, mse_et, mse_r, mse_lasso, mse_rf, mse_sgd]\n",
    "\n",
    "# Plot the values\n",
    "plt.plot(mse)"
   ]
  },
  {
   "cell_type": "code",
   "execution_count": 302,
   "id": "f817b6f7",
   "metadata": {},
   "outputs": [
    {
     "data": {
      "text/plain": [
       "[<matplotlib.lines.Line2D at 0x1a79ecf6388>]"
      ]
     },
     "execution_count": 302,
     "metadata": {},
     "output_type": "execute_result"
    },
    {
     "data": {
      "image/png": "[encoded data removed]",
      "text/plain": [
       "<Figure size 432x288 with 1 Axes>"
      ]
     },
     "metadata": {
      "needs_background": "light"
     },
     "output_type": "display_data"
    }
   ],
   "source": [
    "# RMSE Variables\n",
    "rmse_Linear_Regression = np.sqrt(mean_squared_error(y_test, y_pred))\n",
    "rmse_et = np.sqrt(mean_squared_error(y_test, y_pred_et))\n",
    "rmse_r = np.sqrt(mean_squared_error(y_test, y_pred_r))\n",
    "rmse_lasso = np.sqrt(mean_squared_error(y_test, y_pred_lasso))\n",
    "rmse_rf = np.sqrt(mean_squared_error(y_test, y_pred_rf))\n",
    "rmse_sgd = np.sqrt(mean_squared_error(y_test, y_pred_sgd))\n",
    "\n",
    "rmse = [rmse_Linear_Regression, rmse_et, rmse_r, rmse_lasso, rmse_rf, rmse_sgd]\n",
    "\n",
    "# Plot the values\n",
    "plt.plot(rmse)"
   ]
  },
  {
   "cell_type": "markdown",
   "id": "4fb44b29",
   "metadata": {},
   "source": [
    "R2 - Linear Regression is closest to 1  \n",
    "Mean Squared Error - Linear Regression is the lowest  \n",
    "Root Mean Squared Error - Linear Regression is the lowest  "
   ]
  },
  {
   "cell_type": "markdown",
   "id": "92e6a1c3",
   "metadata": {},
   "source": [
    "Overall, the Linear Regression model was the most favorable according to a comparison of results."
   ]
  },
  {
   "cell_type": "markdown",
   "id": "109474d4",
   "metadata": {},
   "source": [
    "#### Model Performance"
   ]
  },
  {
   "cell_type": "markdown",
   "id": "9c2e9c48",
   "metadata": {},
   "source": [
    "We evaluated the performance of the most accurate model chosen above (Linear Regression)."
   ]
  },
  {
   "cell_type": "code",
   "execution_count": 303,
   "id": "21cc5ef2",
   "metadata": {},
   "outputs": [
    {
     "data": {
      "text/html": [
       "<div>\n",
       "<style scoped>\n",
       "    .dataframe tbody tr th:only-of-type {\n",
       "        vertical-align: middle;\n",
       "    }\n",
       "\n",
       "    .dataframe tbody tr th {\n",
       "        vertical-align: top;\n",
       "    }\n",
       "\n",
       "    .dataframe thead th {\n",
       "        text-align: right;\n",
       "    }\n",
       "</style>\n",
       "<table border=\"1\" class=\"dataframe\">\n",
       "  <thead>\n",
       "    <tr style=\"text-align: right;\">\n",
       "      <th></th>\n",
       "      <th>Prediction</th>\n",
       "      <th>Actual</th>\n",
       "    </tr>\n",
       "  </thead>\n",
       "  <tbody>\n",
       "    <tr>\n",
       "      <th>165</th>\n",
       "      <td>20393.867604</td>\n",
       "      <td>18847.60</td>\n",
       "    </tr>\n",
       "    <tr>\n",
       "      <th>179</th>\n",
       "      <td>20627.587134</td>\n",
       "      <td>34868.07</td>\n",
       "    </tr>\n",
       "    <tr>\n",
       "      <th>133</th>\n",
       "      <td>26492.167469</td>\n",
       "      <td>18847.60</td>\n",
       "    </tr>\n",
       "    <tr>\n",
       "      <th>148</th>\n",
       "      <td>17783.104985</td>\n",
       "      <td>13462.57</td>\n",
       "    </tr>\n",
       "    <tr>\n",
       "      <th>59</th>\n",
       "      <td>24670.273825</td>\n",
       "      <td>18847.60</td>\n",
       "    </tr>\n",
       "    <tr>\n",
       "      <th>...</th>\n",
       "      <td>...</td>\n",
       "      <td>...</td>\n",
       "    </tr>\n",
       "    <tr>\n",
       "      <th>75</th>\n",
       "      <td>20512.663060</td>\n",
       "      <td>13462.57</td>\n",
       "    </tr>\n",
       "    <tr>\n",
       "      <th>182</th>\n",
       "      <td>26492.167469</td>\n",
       "      <td>18847.60</td>\n",
       "    </tr>\n",
       "    <tr>\n",
       "      <th>214</th>\n",
       "      <td>25935.076755</td>\n",
       "      <td>40387.72</td>\n",
       "    </tr>\n",
       "    <tr>\n",
       "      <th>156</th>\n",
       "      <td>17979.345168</td>\n",
       "      <td>18847.60</td>\n",
       "    </tr>\n",
       "    <tr>\n",
       "      <th>126</th>\n",
       "      <td>21101.579819</td>\n",
       "      <td>21540.12</td>\n",
       "    </tr>\n",
       "  </tbody>\n",
       "</table>\n",
       "<p>71 rows × 2 columns</p>\n",
       "</div>"
      ],
      "text/plain": [
       "       Prediction    Actual\n",
       "165  20393.867604  18847.60\n",
       "179  20627.587134  34868.07\n",
       "133  26492.167469  18847.60\n",
       "148  17783.104985  13462.57\n",
       "59   24670.273825  18847.60\n",
       "..            ...       ...\n",
       "75   20512.663060  13462.57\n",
       "182  26492.167469  18847.60\n",
       "214  25935.076755  40387.72\n",
       "156  17979.345168  18847.60\n",
       "126  21101.579819  21540.12\n",
       "\n",
       "[71 rows x 2 columns]"
      ]
     },
     "execution_count": 303,
     "metadata": {},
     "output_type": "execute_result"
    }
   ],
   "source": [
    "# Predict outcomes for test data set\n",
    "predictions = clf.predict(x_test)\n",
    "pd.DataFrame({\"Prediction\": predictions, \"Actual\": y_test})"
   ]
  },
  {
   "cell_type": "code",
   "execution_count": 304,
   "id": "4c4c28ce",
   "metadata": {},
   "outputs": [
    {
     "data": {
      "text/html": [
       "<div>\n",
       "<style scoped>\n",
       "    .dataframe tbody tr th:only-of-type {\n",
       "        vertical-align: middle;\n",
       "    }\n",
       "\n",
       "    .dataframe tbody tr th {\n",
       "        vertical-align: top;\n",
       "    }\n",
       "\n",
       "    .dataframe thead th {\n",
       "        text-align: right;\n",
       "    }\n",
       "</style>\n",
       "<table border=\"1\" class=\"dataframe\">\n",
       "  <thead>\n",
       "    <tr style=\"text-align: right;\">\n",
       "      <th></th>\n",
       "      <th>Actual</th>\n",
       "      <th>Predicted</th>\n",
       "    </tr>\n",
       "  </thead>\n",
       "  <tbody>\n",
       "    <tr>\n",
       "      <th>164</th>\n",
       "      <td>18847.60</td>\n",
       "      <td>20393.867604</td>\n",
       "    </tr>\n",
       "    <tr>\n",
       "      <th>165</th>\n",
       "      <td>34868.07</td>\n",
       "      <td>20627.587134</td>\n",
       "    </tr>\n",
       "    <tr>\n",
       "      <th>166</th>\n",
       "      <td>18847.60</td>\n",
       "      <td>26492.167469</td>\n",
       "    </tr>\n",
       "    <tr>\n",
       "      <th>167</th>\n",
       "      <td>13462.57</td>\n",
       "      <td>17783.104985</td>\n",
       "    </tr>\n",
       "    <tr>\n",
       "      <th>168</th>\n",
       "      <td>18847.60</td>\n",
       "      <td>24670.273825</td>\n",
       "    </tr>\n",
       "  </tbody>\n",
       "</table>\n",
       "</div>"
      ],
      "text/plain": [
       "       Actual     Predicted\n",
       "164  18847.60  20393.867604\n",
       "165  34868.07  20627.587134\n",
       "166  18847.60  26492.167469\n",
       "167  13462.57  17783.104985\n",
       "168  18847.60  24670.273825"
      ]
     },
     "execution_count": 304,
     "metadata": {},
     "output_type": "execute_result"
    }
   ],
   "source": [
    "# Create a DataFrame of Real and Predicted values\n",
    "salaries = pd.DataFrame({\n",
    "    \"Actual\": y_test.ravel(),\n",
    "    \"Predicted\": predictions.ravel()\n",
    "}, index = df_updated.index[-len(y_test): ]) \n",
    "\n",
    "# Show the DataFrame's head\n",
    "salaries.head()"
   ]
  },
  {
   "cell_type": "code",
   "execution_count": 175,
   "id": "91549550",
   "metadata": {},
   "outputs": [
    {
     "data": {
      "text/plain": [
       "<AxesSubplot:title={'center':'Actual Vs. Predicted Salaries'}>"
      ]
     },
     "execution_count": 175,
     "metadata": {},
     "output_type": "execute_result"
    },
    {
     "data": {
      "image/png": "[encoded data removed]",
      "text/plain": [
       "<Figure size 432x288 with 1 Axes>"
      ]
     },
     "metadata": {
      "needs_background": "light"
     },
     "output_type": "display_data"
    }
   ],
   "source": [
    "# Plot the real vs predicted values as a line chart\n",
    "salaries.plot(title=\"Actual Vs. Predicted Salaries\")"
   ]
  },
  {
   "cell_type": "markdown",
   "id": "260615da",
   "metadata": {},
   "source": [
    "In conclusion, our model was not able to accurately predict salaries due to the limited data set.  Implications are included below in the dashboard."
   ]
  },
  {
   "cell_type": "markdown",
   "id": "be1b3cf6",
   "metadata": {},
   "source": [
    "#### DASHBOARD"
   ]
  },
  {
   "cell_type": "markdown",
   "id": "64ee7a78",
   "metadata": {},
   "source": [
    "We created a dashboard for the presentation. The dashboard was saved as an html."
   ]
  },
  {
   "cell_type": "markdown",
   "id": "540fdd2d",
   "metadata": {},
   "source": [
    "First Step: Create Markdowns for Overview Tabs"
   ]
  },
  {
   "cell_type": "code",
   "execution_count": 336,
   "id": "a8901de0",
   "metadata": {},
   "outputs": [],
   "source": [
    "markdown_titlepage = \"\"\"\n",
    "# Predicting FinTech Bootcamp Graduate Salaries  \n",
    "  \n",
    "Presentation Date: January 15, 2022 \n",
    "    \n",
    "Prepared by Andrew, Rachel, Margee, and Jinhyeong  \n",
    "  \n",
    "![image](./images/programmingsalaries.png)\n",
    "\n",
    "\"\"\""
   ]
  },
  {
   "cell_type": "code",
   "execution_count": 337,
   "id": "839e358e",
   "metadata": {},
   "outputs": [],
   "source": [
    "markdown_intro = \"\"\"\n",
    "# Project Objective and Hypothesis  \n",
    "  \n",
    "Our objective was to research and learn what salaries are possible with skills obtained in this FinTech Bootcamp.  \n",
    "We used the Monster India API to retrieve data regarding job descriptions, skills, and salaries  \n",
    "to determine the following:  \n",
    "- What jobs require skills from this bootcamp?  \n",
    "- What are the potential jobs and salaries for graduates with these skills?  \n",
    "- Can we predict an accurate salary range based on these skills?  \n",
    "\n",
    "Our hypothesis is that the more key skills you possess, the higher the salary.\n",
    "  \n",
    "![image](./images/salaryafterbootcamp.png)\n",
    "\"\"\""
   ]
  },
  {
   "cell_type": "code",
   "execution_count": 338,
   "id": "d0b98830",
   "metadata": {},
   "outputs": [],
   "source": [
    "markdown_background1 = \"\"\"\n",
    "# What Skills Have We Gained as FinTech Bootcamp Students?\n",
    "  \n",
    "As part of the U of MN FinTech Bootcamp, we have obtained the necessary skills to automate  \n",
    "and improve financial services using cutting-edge technology. Upon graduation, skills gained will include the following:\n",
    "  \n",
    "![image](./images/Skills.png)\n",
    "\n",
    "We selected key skills from this course to use in our analysis.\n",
    "\"\"\""
   ]
  },
  {
   "cell_type": "code",
   "execution_count": 339,
   "id": "29829a1b",
   "metadata": {},
   "outputs": [],
   "source": [
    "markdown_background2 = \"\"\"\n",
    "# Datasets Used  \n",
    "\n",
    "We used data obtained from the Monster India API.  \n",
    "  \n",
    "We selected the following skills obtained during this FinTech Bootcamp to use in our model:  \n",
    "1. Database  \n",
    "2. Python  \n",
    "3. API  \n",
    "4. Algorithm  \n",
    "5. Cloud  \n",
    "6. Forecast  \n",
    "7. Big data    \n",
    "8. Dashboard  \n",
    "9. Project Management  \n",
    "10. Finance  \n",
    "  \n",
    "We also used like-terms in our model to capture these skills using various terminology.  \n",
    "  \n",
    "![image](./images/indemandskills.png)\n",
    "\n",
    "\"\"\""
   ]
  },
  {
   "cell_type": "code",
   "execution_count": 340,
   "id": "2f44b709",
   "metadata": {},
   "outputs": [],
   "source": [
    "markdown_dataphases = \"\"\"\n",
    "# Data Phases  \n",
    "  \n",
    "Our process consisted of data exploration,  data preparation, and data cleanup.  \n",
    "  \n",
    "- Data Exploration: Google seaches, API searches, Monster India API, FinTech Bootcamp Curriculum    \n",
    "- Data Preparation: Searching through variables in Spyder, selecting key data, narrowing down jobs, determining key skills  \n",
    "- Data Cleanup: Dropping unnecessary information, searching the data to find jobs that include at least one key skill  \n",
    "    \n",
    "Data Issues:   \n",
    "  \n",
    "- Most salaries were in Indian rupees, not USD, so conversion was necessary.  \n",
    "- Some salaries may be skewed because there are some outliers from different countries/currencies in the data obtained from the API.  \n",
    "- There were likely job postings/salaries posted multiple times.\n",
    "- The job posting \"skills\" section did not include the information we needed, so we had to rely on the job description to find job skills.  \n",
    "- Determining like-words for key skills was subjective, which may not capture all.  \n",
    "- As shown in the graph below, the most broad salary range includes at least one skill.    \n",
    "  \n",
    "![image](./images/salarydistributiontotalskills.png)\n",
    "\n",
    "\"\"\""
   ]
  },
  {
   "cell_type": "code",
   "execution_count": 341,
   "id": "eb21ff7b",
   "metadata": {},
   "outputs": [],
   "source": [
    "markdown_model = \"\"\"\n",
    "# Training/Testing and Predictive Model Evaluation  \n",
    "  \n",
    "We ran a variety of machine learning algorithms to determine the best model to use:  \n",
    "1. Linear Regression  \n",
    "2. Extra Trees  \n",
    "3. Lasso  \n",
    "4. Random Forest  \n",
    "5. Ridge  \n",
    "6. Stochastic Gradient Descent    \n",
    "\n",
    "\"\"\""
   ]
  },
  {
   "cell_type": "code",
   "execution_count": 342,
   "id": "d7f70ddb",
   "metadata": {},
   "outputs": [],
   "source": [
    "markdown_modelperf = \"\"\"\n",
    "# Model Performance  \n",
    "  \n",
    "Techniques used to evaluate the model performance included running various machine learning algorithms \n",
    "to determine the best model.  Overall, we determined the Linear Regression model was the best fit for \n",
    "our project because it resulted in an R2 value closest to 1 and the lowest Mean Squared Error and Root \n",
    "Mean Squared Error scores.  \n",
    "  \n",
    "![image](./images/data.png)\n",
    "\"\"\""
   ]
  },
  {
   "cell_type": "code",
   "execution_count": 343,
   "id": "fc627fba",
   "metadata": {},
   "outputs": [],
   "source": [
    "markdown_summaryend = \"\"\"\n",
    "# Summary of Conclusions/Predictions  \n",
    "  \n",
    "Our model was not able to accurately predict salaries due to the limited data set.  \n",
    "Predicted salaries appear to be more of an average across the population.  \n",
    "Data implications, as discussed earlier, resulted in less reliable results,\n",
    "but could be improved with more data and a more relevant API.  \n",
    "  \n",
    "![image](./images/predictedvaluechart.png)  \n",
    "  \n",
    "![image](./images/predictedsalaries.png)  \n",
    "\"\"\""
   ]
  },
  {
   "cell_type": "code",
   "execution_count": 344,
   "id": "75b67b05",
   "metadata": {},
   "outputs": [],
   "source": [
    "markdown_end = \"\"\"\n",
    "# Conclusion  \n",
    "  \n",
    "Based on our analysis, we were not able to determine salary ranges for FinTech Bootcamp graduates.  \n",
    "However, the job salaries that included skills we have learned in this bootcamp were up to $80,000 \n",
    "(converted from Indian rupees, of course!)  \n",
    "   \n",
    "*Difficulties/Implications:*  \n",
    " Overall, the API used was not the best and resulted in various data implications as discussed previously.  \n",
    " We could have spent $200 for access to the US Monster API, but we were cheap and perhaps will consider \n",
    " it for another future project based on the frustration of our data outcome!  \n",
    "  \n",
    "*Potential Next Steps:*  \n",
    "Continue searching for an API with US-based jobs in USD, or pay the fee for the Monster US API.  \n",
    "     \n",
    "![image](./images/fintechjobs.png)\n",
    "\"\"\""
   ]
  },
  {
   "cell_type": "markdown",
   "id": "82a9b8d5",
   "metadata": {},
   "source": [
    "Create the Dashboard"
   ]
  },
  {
   "cell_type": "code",
   "execution_count": 345,
   "id": "38b8b596",
   "metadata": {},
   "outputs": [
    {
     "data": {},
     "metadata": {},
     "output_type": "display_data"
    },
    {
     "data": {
      "application/vnd.holoviews_exec.v0+json": "",
      "text/html": [
       "<div id='1105'>\n",
       "\n",
       "\n",
       "\n",
       "\n",
       "\n",
       "  <div class=\"bk-root\" id=\"496b3abb-30a1-402e-8d41-ebb8b832e290\" data-root-id=\"1105\"></div>\n",
       "</div>\n",
       "<script type=\"application/javascript\">(function(root) {\n",
       "  function embed_document(root) {\n",
       "    var docs_json = {\"c2ccfbf8-74db-4f51-862c-b559e5de37dc\":{\"defs\":[{\"extends\":null,\"module\":null,\"name\":\"ReactiveHTML1\",\"overrides\":[],\"properties\":[]},{\"extends\":null,\"module\":null,\"name\":\"FlexBox1\",\"overrides\":[],\"properties\":[{\"default\":\"flex-start\",\"kind\":null,\"name\":\"align_content\"},{\"default\":\"flex-start\",\"kind\":null,\"name\":\"align_items\"},{\"default\":\"row\",\"kind\":null,\"name\":\"flex_direction\"},{\"default\":\"wrap\",\"kind\":null,\"name\":\"flex_wrap\"},{\"default\":\"flex-start\",\"kind\":null,\"name\":\"justify_content\"}]},{\"extends\":null,\"module\":null,\"name\":\"TemplateActions1\",\"overrides\":[],\"properties\":[{\"default\":0,\"kind\":null,\"name\":\"open_modal\"},{\"default\":0,\"kind\":null,\"name\":\"close_modal\"}]},{\"extends\":null,\"module\":null,\"name\":\"MaterialTemplateActions1\",\"overrides\":[],\"properties\":[{\"default\":0,\"kind\":null,\"name\":\"open_modal\"},{\"default\":0,\"kind\":null,\"name\":\"close_modal\"}]}],\"roots\":{\"references\":[{\"attributes\":{\"css_classes\":[\"markdown\"],\"margin\":[5,5,5,5],\"name\":\"XX\",\"text\":\"&lt;h1&gt;Datasets Used&lt;/h1&gt;\\n&lt;p&gt;We used data obtained from the Monster India API.  &lt;/p&gt;\\n&lt;p&gt;We selected the following skills obtained during this FinTech Bootcamp to use in our model:&lt;br&gt;\\n1. Database&lt;br&gt;\\n2. Python&lt;br&gt;\\n3. API&lt;br&gt;\\n4. Algorithm&lt;br&gt;\\n5. Cloud&lt;br&gt;\\n6. Forecast&lt;br&gt;\\n7. Big data  &lt;br&gt;\\n8. Dashboard&lt;br&gt;\\n9. Project Management&lt;br&gt;\\n10. Finance  &lt;/p&gt;\\n&lt;p&gt;We also used like-terms in our model to capture these skills using various terminology.  &lt;/p&gt;\\n&lt;p&gt;&lt;img alt=&quot;image&quot; src=&quot;./images/indemandskills.png&quot;&gt;&lt;/p&gt;\"},\"id\":\"1112\",\"type\":\"panel.models.markup.HTML\"},{\"attributes\":{\"margin\":[0,0,0,0],\"tabs\":[{\"id\":\"1107\"},{\"id\":\"1109\"},{\"id\":\"1111\"},{\"id\":\"1113\"},{\"id\":\"1115\"},{\"id\":\"1117\"},{\"id\":\"1119\"},{\"id\":\"1121\"},{\"id\":\"1123\"}]},\"id\":\"1105\",\"type\":\"Tabs\"},{\"attributes\":{\"css_classes\":[\"markdown\"],\"margin\":[5,5,5,5],\"name\":\"XX\",\"text\":\"&lt;h1&gt;Model Performance&lt;/h1&gt;\\n&lt;p&gt;Techniques used to evaluate the model performance included running various machine learning algorithms \\nto determine the best model.  Overall, we determined the Linear Regression model was the best fit for \\nour project because it resulted in an R2 value closest to 1 and the lowest Mean Squared Error and Root \\nMean Squared Error scores.  &lt;/p&gt;\\n&lt;p&gt;&lt;img alt=&quot;image&quot; src=&quot;./images/data.png&quot;&gt;&lt;/p&gt;\"},\"id\":\"1118\",\"type\":\"panel.models.markup.HTML\"},{\"attributes\":{\"child\":{\"id\":\"1106\"},\"name\":\"XX\",\"title\":\"XX\"},\"id\":\"1107\",\"type\":\"Panel\"},{\"attributes\":{\"css_classes\":[\"markdown\"],\"margin\":[5,5,5,5],\"name\":\"XX\",\"text\":\"&lt;h1&gt;Project Objective and Hypothesis&lt;/h1&gt;\\n&lt;p&gt;Our objective was to research and learn what salaries are possible with skills obtained in this FinTech Bootcamp.&lt;br&gt;\\nWe used the Monster India API to retrieve data regarding job descriptions, skills, and salaries&lt;br&gt;\\nto determine the following:&lt;br&gt;\\n- What jobs require skills from this bootcamp?&lt;br&gt;\\n- What are the potential jobs and salaries for graduates with these skills?&lt;br&gt;\\n- Can we predict an accurate salary range based on these skills?  &lt;/p&gt;\\n&lt;p&gt;Our hypothesis is that the more key skills you possess, the higher the salary.&lt;/p&gt;\\n&lt;p&gt;&lt;img alt=&quot;image&quot; src=&quot;./images/salaryafterbootcamp.png&quot;&gt;&lt;/p&gt;\"},\"id\":\"1108\",\"type\":\"panel.models.markup.HTML\"},{\"attributes\":{\"css_classes\":[\"markdown\"],\"margin\":[5,5,5,5],\"name\":\"XX\",\"text\":\"&lt;h1&gt;Training/Testing and Predictive Model Evaluation&lt;/h1&gt;\\n&lt;p&gt;We ran a variety of machine learning algorithms to determine the best model to use:&lt;br&gt;\\n1. Linear Regression&lt;br&gt;\\n2. Extra Trees&lt;br&gt;\\n3. Lasso&lt;br&gt;\\n4. Random Forest&lt;br&gt;\\n5. Ridge&lt;br&gt;\\n6. Stochastic Gradient Descent    &lt;/p&gt;\"},\"id\":\"1116\",\"type\":\"panel.models.markup.HTML\"},{\"attributes\":{\"css_classes\":[\"markdown\"],\"margin\":[5,5,5,5],\"name\":\"XX\",\"text\":\"&lt;h1&gt;Data Phases&lt;/h1&gt;\\n&lt;p&gt;Our process consisted of data exploration,  data preparation, and data cleanup.  &lt;/p&gt;\\n&lt;ul&gt;\\n&lt;li&gt;Data Exploration: Google seaches, API searches, Monster India API, FinTech Bootcamp Curriculum    &lt;/li&gt;\\n&lt;li&gt;Data Preparation: Searching through variables in Spyder, selecting key data, narrowing down jobs, determining key skills  &lt;/li&gt;\\n&lt;li&gt;Data Cleanup: Dropping unnecessary information, searching the data to find jobs that include at least one key skill  &lt;/li&gt;\\n&lt;/ul&gt;\\n&lt;p&gt;Data Issues:   &lt;/p&gt;\\n&lt;ul&gt;\\n&lt;li&gt;Most salaries were in Indian rupees, not USD, so conversion was necessary.  &lt;/li&gt;\\n&lt;li&gt;Some salaries may be skewed because there are some outliers from different countries/currencies in the data obtained from the API.  &lt;/li&gt;\\n&lt;li&gt;The job posting &amp;ldquo;skills&amp;rdquo; section did not include the information we needed, so we had to rely on the job description to find job skills.  &lt;/li&gt;\\n&lt;li&gt;Determining like-words for key skills was subjective, which may not capture all.  &lt;/li&gt;\\n&lt;li&gt;As shown in the graph below, the most broad salary range includes at least one skill.    &lt;/li&gt;\\n&lt;/ul&gt;\\n&lt;p&gt;&lt;img alt=&quot;image&quot; src=&quot;./images/salarydistributiontotalskills.png&quot;&gt;&lt;/p&gt;\"},\"id\":\"1114\",\"type\":\"panel.models.markup.HTML\"},{\"attributes\":{\"child\":{\"id\":\"1114\"},\"name\":\"XX\",\"title\":\"XX\"},\"id\":\"1115\",\"type\":\"Panel\"},{\"attributes\":{\"child\":{\"id\":\"1112\"},\"name\":\"XX\",\"title\":\"XX\"},\"id\":\"1113\",\"type\":\"Panel\"},{\"attributes\":{\"client_comm_id\":\"58ef99374e9e42eba644ede1335496fb\",\"comm_id\":\"ac04546089b64993b0266970f034aacc\",\"plot_id\":\"1105\"},\"id\":\"1124\",\"type\":\"panel.models.comm_manager.CommManager\"},{\"attributes\":{\"child\":{\"id\":\"1108\"},\"name\":\"XX\",\"title\":\"XX\"},\"id\":\"1109\",\"type\":\"Panel\"},{\"attributes\":{\"css_classes\":[\"markdown\"],\"margin\":[5,5,5,5],\"name\":\"XX\",\"text\":\"&lt;h1&gt;Conclusion&lt;/h1&gt;\\n&lt;p&gt;Based on our analysis, we were not able to determine salary ranges for FinTech Bootcamp graduates.&lt;br&gt;\\nHowever, the job salaries that included skills we have learned in this bootcamp were up to $80,000 \\n(converted from Indian rupees, of course!)  &lt;/p&gt;\\n&lt;p&gt;&lt;em&gt;Difficulties/Implications:&lt;/em&gt;&lt;br&gt;\\n Overall, the API used was not the best and resulted in various data implications as discussed previously.&lt;br&gt;\\n We could have spent $200 for access to the US Monster API, but we were cheap and perhaps will consider \\n it for another future project based on the frustration of our data outcome!  &lt;/p&gt;\\n&lt;p&gt;&lt;em&gt;Potential Next Steps:&lt;/em&gt;&lt;br&gt;\\nContinue searching for an API with US-based jobs in USD, or pay the fee for the Monster US API.  &lt;/p&gt;\\n&lt;p&gt;&lt;img alt=&quot;image&quot; src=&quot;./images/fintechjobs.png&quot;&gt;&lt;/p&gt;\"},\"id\":\"1122\",\"type\":\"panel.models.markup.HTML\"},{\"attributes\":{\"css_classes\":[\"markdown\"],\"margin\":[5,5,5,5],\"name\":\"XX\",\"text\":\"&lt;h1&gt;Predicting FinTech Bootcamp Graduate Salaries&lt;/h1&gt;\\n&lt;p&gt;Presentation Date: January 15, 2022 &lt;/p&gt;\\n&lt;p&gt;Prepared by Andrew, Rachel, Margee, and Jinhyeong  &lt;/p&gt;\\n&lt;p&gt;&lt;img alt=&quot;image&quot; src=&quot;./images/programmingsalaries.png&quot;&gt;&lt;/p&gt;\"},\"id\":\"1106\",\"type\":\"panel.models.markup.HTML\"},{\"attributes\":{\"child\":{\"id\":\"1118\"},\"name\":\"XX\",\"title\":\"XX\"},\"id\":\"1119\",\"type\":\"Panel\"},{\"attributes\":{\"child\":{\"id\":\"1120\"},\"name\":\"XX\",\"title\":\"XX\"},\"id\":\"1121\",\"type\":\"Panel\"},{\"attributes\":{\"css_classes\":[\"markdown\"],\"margin\":[5,5,5,5],\"name\":\"XX\",\"text\":\"&lt;h1&gt;What Skills Have We Gained as FinTech Bootcamp Students?&lt;/h1&gt;\\n&lt;p&gt;As part of the U of MN FinTech Bootcamp, we have obtained the necessary skills to automate&lt;br&gt;\\nand improve financial services using cutting-edge technology. Upon graduation, skills gained will include the following:&lt;/p&gt;\\n&lt;p&gt;&lt;img alt=&quot;image&quot; src=&quot;./images/Skills.png&quot;&gt;&lt;/p&gt;\\n&lt;p&gt;We selected key skills from this course to use in our analysis.&lt;/p&gt;\"},\"id\":\"1110\",\"type\":\"panel.models.markup.HTML\"},{\"attributes\":{\"child\":{\"id\":\"1110\"},\"name\":\"XX\",\"title\":\"XX\"},\"id\":\"1111\",\"type\":\"Panel\"},{\"attributes\":{\"child\":{\"id\":\"1116\"},\"name\":\"XX\",\"title\":\"XX\"},\"id\":\"1117\",\"type\":\"Panel\"},{\"attributes\":{\"child\":{\"id\":\"1122\"},\"name\":\"XX\",\"title\":\"XX\"},\"id\":\"1123\",\"type\":\"Panel\"},{\"attributes\":{\"css_classes\":[\"markdown\"],\"margin\":[5,5,5,5],\"name\":\"XX\",\"text\":\"&lt;h1&gt;Summary of Conclusions/Predictions&lt;/h1&gt;\\n&lt;p&gt;Our model was not able to accurately predict salaries due to the limited data set.&lt;br&gt;\\nPredicted salaries appear to be more of an average across the population.&lt;br&gt;\\nData implications, as discussed earlier, resulted in less reliable results,\\nbut could be improved with more data and a more relevant API.  &lt;/p&gt;\\n&lt;p&gt;&lt;img alt=&quot;image&quot; src=&quot;./images/predictedvaluechart.png&quot;&gt;  &lt;/p&gt;\\n&lt;p&gt;&lt;img alt=&quot;image&quot; src=&quot;./images/predictedsalaries.png&quot;&gt;  &lt;/p&gt;\"},\"id\":\"1120\",\"type\":\"panel.models.markup.HTML\"}],\"root_ids\":[\"1105\",\"1124\"]},\"title\":\"Bokeh Application\",\"version\":\"2.4.2\"}};\n",
       "    var render_items = [{\"docid\":\"c2ccfbf8-74db-4f51-862c-b559e5de37dc\",\"root_ids\":[\"1105\"],\"roots\":{\"1105\":\"496b3abb-30a1-402e-8d41-ebb8b832e290\"}}];\n",
       "    root.Bokeh.embed.embed_items_notebook(docs_json, render_items);\n",
       "  }\n",
       "  if (root.Bokeh !== undefined && root.Bokeh.Panel !== undefined) {\n",
       "    embed_document(root);\n",
       "  } else {\n",
       "    var attempts = 0;\n",
       "    var timer = setInterval(function(root) {\n",
       "      if (root.Bokeh !== undefined && root.Bokeh.Panel !== undefined) {\n",
       "        clearInterval(timer);\n",
       "        embed_document(root);\n",
       "      } else if (document.readyState == \"complete\") {\n",
       "        attempts++;\n",
       "        if (attempts > 200) {\n",
       "          clearInterval(timer);\n",
       "          console.log(\"Bokeh: ERROR: Unable to run BokehJS code because BokehJS library is missing\");\n",
       "        }\n",
       "      }\n",
       "    }, 25, root)\n",
       "  }\n",
       "})(window);</script>"
      ],
      "text/plain": [
       "Tabs\n",
       "    [0] Markdown(str, name='XX')\n",
       "    [1] Markdown(str, name='XX')\n",
       "    [2] Markdown(str, name='XX')\n",
       "    [3] Markdown(str, name='XX')\n",
       "    [4] Markdown(str, name='XX')\n",
       "    [5] Markdown(str, name='XX')\n",
       "    [6] Markdown(str, name='XX')\n",
       "    [7] Markdown(str, name='XX')\n",
       "    [8] Markdown(str, name='XX')"
      ]
     },
     "execution_count": 345,
     "metadata": {
      "application/vnd.holoviews_exec.v0+json": {
       "id": "1105"
      }
     },
     "output_type": "execute_result"
    }
   ],
   "source": [
    "#Create Dashboard\n",
    "pn.Tabs(\n",
    "    (\"Project 2 Group C\",markdown_titlepage),\n",
    "    (\"Project Objective\",markdown_intro),\n",
    "    (\"Skills Gained in Bootcamp\",markdown_background1),\n",
    "    (\"Datasets Used\",markdown_background2),\n",
    "    (\"Data Phases and Issues\",markdown_dataphases),\n",
    "    (\"Training/Testing and Evaluation\",markdown_model),\n",
    "    (\"Model Performance\",markdown_modelperf),\n",
    "    (\"Summary\",markdown_summaryend),\n",
    "    (\"Conclusion\",markdown_end)\n",
    "       )"
   ]
  },
  {
   "cell_type": "markdown",
   "id": "d978bc4e",
   "metadata": {},
   "source": [
    "Final Step: Save to html for presentation"
   ]
  },
  {
   "cell_type": "code",
   "execution_count": 346,
   "id": "65a8f06b",
   "metadata": {},
   "outputs": [],
   "source": [
    "#Create an html of the dashboard for presentation purposes once finalized\n",
    "pn.Tabs(\n",
    "    (\"Project 2 Group C\",markdown_titlepage),\n",
    "    (\"Project Objective\",markdown_intro),\n",
    "    (\"Skills Gained in Bootcamp\",markdown_background1),\n",
    "    (\"Datasets Used\",markdown_background2),\n",
    "    (\"Data Phases and Issues\",markdown_dataphases),\n",
    "    (\"Training/Testing and Evaluation\",markdown_model),\n",
    "    (\"Model Performance\",markdown_modelperf),\n",
    "    (\"Summary\",markdown_summaryend),\n",
    "    (\"Conclusion\",markdown_end)\n",
    "       ).save(\"Project2_Presentation.html\", embed=True)"
   ]
  },
  {
   "cell_type": "code",
   "execution_count": null,
   "id": "b558c898",
   "metadata": {},
   "outputs": [],
   "source": []
  }
 ],
 "metadata": {
  "kernelspec": {
   "display_name": "Python 3 (ipykernel)",
   "language": "python",
   "name": "python3"
  },
  "language_info": {
   "codemirror_mode": {
    "name": "ipython",
    "version": 3
   },
   "file_extension": ".py",
   "mimetype": "text/x-python",
   "name": "python",
   "nbconvert_exporter": "python",
   "pygments_lexer": "ipython3",
   "version": "3.7.11"
  }
 },
 "nbformat": 4,
 "nbformat_minor": 5
}
