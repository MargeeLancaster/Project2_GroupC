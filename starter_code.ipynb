{
 "cells": [
  {
   "cell_type": "code",
   "execution_count": 1,
   "id": "62e44b19-b718-4f74-91f0-e9c23aabb750",
   "metadata": {},
   "outputs": [],
   "source": [
    "import json\n",
    "import pandas as pd"
   ]
  },
  {
   "cell_type": "code",
   "execution_count": 2,
   "id": "8d79871a-7b7a-431e-8064-44fa7c4f1e7e",
   "metadata": {},
   "outputs": [],
   "source": [
    "# Create File Path\n",
    "filepath = \"C:/Users/Margee/working_class_uofm/Project2_GroupC/\"\n",
    "filename = \"monster_india_latest_jobs_free_dataset.json\"\n",
    "\n",
    "# Opening JSON file\n",
    "f = open(filepath + filename)\n",
    "\n",
    "# returns JSON object as a dictionary\n",
    "data = json.load(f)"
   ]
  },
  {
   "cell_type": "code",
   "execution_count": 3,
   "id": "765977b7-a4df-47d6-913c-38ec1a10c5c1",
   "metadata": {},
   "outputs": [],
   "source": [
    "# Create data list\n",
    "address_country = []\n",
    "address_locality = []\n",
    "address_region = []\n",
    "company = []\n",
    "description = []\n",
    "expires_at = []\n",
    "industry = []\n",
    "postal_code = []\n",
    "posted_at = []\n",
    "qualification = []\n",
    "salary = []  # the target\n",
    "salary_type = []\n",
    "scraped_at = []\n",
    "skill = []\n",
    "street_address = []\n",
    "title = []\n",
    "url = []\n",
    "\n",
    "# iterate through each element in the data list\n",
    "for each in data:\n",
    "\n",
    "    # append values to list, given each key\n",
    "    address_country.append(each[\"address_country\"])\n",
    "    address_locality.append(each[\"address_locality\"])\n",
    "    address_region.append(each[\"address_region\"])\n",
    "    company.append(each[\"company\"])\n",
    "    description.append(each[\"description\"])\n",
    "    expires_at.append(each[\"expires_at\"])\n",
    "    salary.append(each[\"salary\"])\n",
    "    # the target"
   ]
  },
  {
   "cell_type": "code",
   "execution_count": null,
   "id": "c4fd0e85-9c20-4419-bb6b-27f189db6415",
   "metadata": {},
   "outputs": [],
   "source": []
  }
 ],
 "metadata": {
  "kernelspec": {
   "display_name": "Python 3 (ipykernel)",
   "language": "python",
   "name": "python3"
  },
  "language_info": {
   "codemirror_mode": {
    "name": "ipython",
    "version": 3
   },
   "file_extension": ".py",
   "mimetype": "text/x-python",
   "name": "python",
   "nbconvert_exporter": "python",
   "pygments_lexer": "ipython3",
   "version": "3.7.11"
  }
 },
 "nbformat": 4,
 "nbformat_minor": 5
}
